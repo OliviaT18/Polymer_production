{
 "cells": [
  {
   "cell_type": "markdown",
   "metadata": {},
   "source": [
    "# ISIS TS1 Current Moderator Hydrogen gas and Polymer Production"
   ]
  },
  {
   "cell_type": "code",
   "execution_count": 1,
   "metadata": {},
   "outputs": [],
   "source": [
    "import numpy as np\n",
    "import pandas as pd\n",
    "\n",
    "from Polymer_Production_Functions import moles_per_MGy_per_g\n",
    "from Polymer_Production_Functions import radicals_per_MGy_per_g\n",
    "from Polymer_Production_Functions import vol_of_H_per_s\n",
    "from Polymer_Production_Functions import rate_of_pol_form\n",
    "from Polymer_Production_Functions import molecular_weight\n",
    "from Polymer_Production_Functions import MeV_per_g_per_sec_to_MGy_per_sec"
   ]
  },
  {
   "cell_type": "markdown",
   "metadata": {},
   "source": [
    "# Moles of Hydrogen gas and Polymer per MGy per gram of CH4, Number of Hydrogen and Polymer Radicals per MGy per gram of CH4, Molecular weight of Polymer\n",
    "- G-Values for CH4 in umol/J, taken from Evans paper.\n",
    "     - G-Values in evans paper are the yield in solid methane, g values in liquid are unknown\n",
    "     - though i would say initial moles etc are likely very similar in liquid and solid, the main difference being the rate of formation\n",
    "- Molecular weight - in Evans paper the polymer is said to be (CH2)n where n is the chain length. It is thought the chain length does not exceed n=20 so this is for the maximum chain length."
   ]
  },
  {
   "cell_type": "code",
   "execution_count": 2,
   "metadata": {},
   "outputs": [
    {
     "name": "stdout",
     "output_type": "stream",
     "text": [
      "0.00066 moles of Hydrogen gas per MGy per gram of CH4\n",
      "3.97518e+20 radicals/g.MGy of Hydrogen\n",
      "0.00022 moles of Polymer per MGy per gram of CH4\n",
      "1.32506e+20 radicals/g.MGy of Polymer\n",
      "Molecular weight of the polymer (CH2)n for the max chain length of 20 = 280\n"
     ]
    }
   ],
   "source": [
    "moles_H_per_MGyg = moles_per_MGy_per_g(0.66e-6)\n",
    "print (moles_H_per_MGyg, 'moles of Hydrogen gas per MGy per gram of CH4')\n",
    "print (radicals_per_MGy_per_g(moles_H_per_MGyg), 'radicals/g.MGy of Hydrogen')\n",
    "\n",
    "moles_Pol_per_MGyg = moles_per_MGy_per_g(0.22e-6)\n",
    "print (moles_Pol_per_MGyg, 'moles of Polymer per MGy per gram of CH4')\n",
    "print (radicals_per_MGy_per_g(moles_Pol_per_MGyg), 'radicals/g.MGy of Polymer')\n",
    "\n",
    "Mr_20 = molecular_weight(20)\n",
    "print('Molecular weight of the polymer (CH2)n for the max chain length of 20 =', Mr_20)"
   ]
  },
  {
   "cell_type": "markdown",
   "metadata": {},
   "source": [
    "# TS1 Current Moderator"
   ]
  },
  {
   "cell_type": "markdown",
   "metadata": {},
   "source": [
    "## Setting up dataframe for the split moderator \n",
    "- Absorbed dose rate calculated for both photons and neutrons \n",
    "- Particles of sufficient energy can cause bond cleavage so can assume all particles produced contribute\n",
    "    - however unsure of the weighting - neutrons are high LET and photons low LET, im not sure which causes more reactive species to be made or if theres even a way to find out."
   ]
  },
  {
   "cell_type": "code",
   "execution_count": 3,
   "metadata": {},
   "outputs": [
    {
     "data": {
      "text/html": [
       "<div>\n",
       "<style scoped>\n",
       "    .dataframe tbody tr th:only-of-type {\n",
       "        vertical-align: middle;\n",
       "    }\n",
       "\n",
       "    .dataframe tbody tr th {\n",
       "        vertical-align: top;\n",
       "    }\n",
       "\n",
       "    .dataframe thead th {\n",
       "        text-align: right;\n",
       "    }\n",
       "</style>\n",
       "<table border=\"1\" class=\"dataframe\">\n",
       "  <thead>\n",
       "    <tr style=\"text-align: right;\">\n",
       "      <th></th>\n",
       "      <th>Cell #</th>\n",
       "      <th>CH4 Vol (cc)</th>\n",
       "      <th>CH4 Mass (g)</th>\n",
       "      <th>Energy Deposited (MeV/g/s) Neutron</th>\n",
       "      <th>Energy Deposited (MeV/g/s) Photon</th>\n",
       "      <th>Dose Rate (MGy/s) Neutron</th>\n",
       "      <th>Dose Rate (MGy/s) Photon</th>\n",
       "    </tr>\n",
       "  </thead>\n",
       "  <tbody>\n",
       "    <tr>\n",
       "      <th>0</th>\n",
       "      <td>13</td>\n",
       "      <td>78.2</td>\n",
       "      <td>34.5</td>\n",
       "      <td>2.540000e+12</td>\n",
       "      <td>2.590000e+11</td>\n",
       "      <td>0.000407</td>\n",
       "      <td>0.000041</td>\n",
       "    </tr>\n",
       "    <tr>\n",
       "      <th>1</th>\n",
       "      <td>14</td>\n",
       "      <td>78.5</td>\n",
       "      <td>34.6</td>\n",
       "      <td>2.280000e+12</td>\n",
       "      <td>2.480000e+11</td>\n",
       "      <td>0.000365</td>\n",
       "      <td>0.000040</td>\n",
       "    </tr>\n",
       "    <tr>\n",
       "      <th>2</th>\n",
       "      <td>13000</td>\n",
       "      <td>91.5</td>\n",
       "      <td>40.3</td>\n",
       "      <td>1.220000e+12</td>\n",
       "      <td>2.210000e+11</td>\n",
       "      <td>0.000195</td>\n",
       "      <td>0.000035</td>\n",
       "    </tr>\n",
       "    <tr>\n",
       "      <th>3</th>\n",
       "      <td>13001</td>\n",
       "      <td>67.1</td>\n",
       "      <td>29.6</td>\n",
       "      <td>7.710000e+11</td>\n",
       "      <td>1.610000e+11</td>\n",
       "      <td>0.000124</td>\n",
       "      <td>0.000026</td>\n",
       "    </tr>\n",
       "    <tr>\n",
       "      <th>4</th>\n",
       "      <td>14000</td>\n",
       "      <td>92.4</td>\n",
       "      <td>40.7</td>\n",
       "      <td>1.040000e+12</td>\n",
       "      <td>2.120000e+11</td>\n",
       "      <td>0.000167</td>\n",
       "      <td>0.000034</td>\n",
       "    </tr>\n",
       "    <tr>\n",
       "      <th>5</th>\n",
       "      <td>14001</td>\n",
       "      <td>67.3</td>\n",
       "      <td>29.7</td>\n",
       "      <td>6.680000e+11</td>\n",
       "      <td>1.560000e+11</td>\n",
       "      <td>0.000107</td>\n",
       "      <td>0.000025</td>\n",
       "    </tr>\n",
       "  </tbody>\n",
       "</table>\n",
       "</div>"
      ],
      "text/plain": [
       "  Cell #  CH4 Vol (cc)  CH4 Mass (g)  Energy Deposited (MeV/g/s) Neutron  \\\n",
       "0     13          78.2          34.5                        2.540000e+12   \n",
       "1     14          78.5          34.6                        2.280000e+12   \n",
       "2  13000          91.5          40.3                        1.220000e+12   \n",
       "3  13001          67.1          29.6                        7.710000e+11   \n",
       "4  14000          92.4          40.7                        1.040000e+12   \n",
       "5  14001          67.3          29.7                        6.680000e+11   \n",
       "\n",
       "   Energy Deposited (MeV/g/s) Photon  Dose Rate (MGy/s) Neutron  \\\n",
       "0                       2.590000e+11                   0.000407   \n",
       "1                       2.480000e+11                   0.000365   \n",
       "2                       2.210000e+11                   0.000195   \n",
       "3                       1.610000e+11                   0.000124   \n",
       "4                       2.120000e+11                   0.000167   \n",
       "5                       1.560000e+11                   0.000107   \n",
       "\n",
       "   Dose Rate (MGy/s) Photon  \n",
       "0                  0.000041  \n",
       "1                  0.000040  \n",
       "2                  0.000035  \n",
       "3                  0.000026  \n",
       "4                  0.000034  \n",
       "5                  0.000025  "
      ]
     },
     "execution_count": 3,
     "metadata": {},
     "output_type": "execute_result"
    }
   ],
   "source": [
    "TS1_Current_Data = {'Cell #': ['13', '14', '13000', '13001', '14000', '14001'],\n",
    "                    'CH4 Vol (cc)': [7.82E+01, 7.85E+01, 9.15E+01, 6.71E+01, 9.24E+01, 6.73E+01],\n",
    "                    'CH4 Mass (g)': [3.45E+01, 3.46E+01, 4.03E+01, 2.96E+01, 4.07E+01, 2.97E+01],\n",
    "                    'Energy Deposited (MeV/g/s) Neutron':[2.54E+12, 2.28E+12, 1.22E+12, 7.71E+11, 1.04E+12, 6.68E+11],\n",
    "                    'Energy Deposited (MeV/g/s) Photon':[2.59E+11, 2.48E+11 ,2.21E+11, 1.61E+11, 2.12E+11, 1.56E+11],\n",
    "                   }\n",
    "\n",
    "TS1_Current_df = pd.DataFrame(TS1_Current_Data, columns =['Cell #','CH4 Vol (cc)', 'CH4 Mass (g)', \n",
    "                                                            'Energy Deposited (MeV/g/s) Neutron', \n",
    "                                                            'Energy Deposited (MeV/g/s) Photon'])\n",
    "\n",
    "TS1_Current_df['Dose Rate (MGy/s) Neutron'] = MeV_per_g_per_sec_to_MGy_per_sec(TS1_Current_df['Energy Deposited (MeV/g/s) Neutron'])\n",
    "TS1_Current_df['Dose Rate (MGy/s) Photon'] = MeV_per_g_per_sec_to_MGy_per_sec(TS1_Current_df['Energy Deposited (MeV/g/s) Photon'])\n",
    "\n",
    "\n",
    "\n",
    "TS1_Current_df"
   ]
  },
  {
   "cell_type": "markdown",
   "metadata": {},
   "source": [
    "## Hydrogen gas production rate\n",
    "- Again calculated for each particle for the split moderator \n",
    "- 0.43 is the Specific Gravity (as referenced in the Evans paper), in the case of this function it basically acts as the density in cm3/g"
   ]
  },
  {
   "cell_type": "code",
   "execution_count": 4,
   "metadata": {},
   "outputs": [],
   "source": [
    "TS1_Current_Hvol_n = vol_of_H_per_s(moles_H_per_MGyg, TS1_Current_df['CH4 Vol (cc)'], TS1_Current_df['Dose Rate (MGy/s) Neutron'], 0.43)\n",
    "TS1_Current_Hvol_p = vol_of_H_per_s(moles_H_per_MGyg, TS1_Current_df['CH4 Vol (cc)'], TS1_Current_df['Dose Rate (MGy/s) Photon'], 0.43)"
   ]
  },
  {
   "cell_type": "markdown",
   "metadata": {},
   "source": [
    "## Polymer production rate"
   ]
  },
  {
   "cell_type": "code",
   "execution_count": 5,
   "metadata": {},
   "outputs": [],
   "source": [
    "TS1_Current_Polymer_n = rate_of_pol_form(0.22e-6, Mr_20, TS1_Current_df['Dose Rate (MGy/s) Neutron'], TS1_Current_df['CH4 Mass (g)'])\n",
    "TS1_Current_Polymer_p = rate_of_pol_form(0.22e-6, Mr_20, TS1_Current_df['Dose Rate (MGy/s) Photon'], TS1_Current_df['CH4 Mass (g)'])"
   ]
  },
  {
   "cell_type": "markdown",
   "metadata": {},
   "source": [
    "## Results"
   ]
  },
  {
   "cell_type": "code",
   "execution_count": 6,
   "metadata": {},
   "outputs": [
    {
     "data": {
      "text/html": [
       "<div>\n",
       "<style scoped>\n",
       "    .dataframe tbody tr th:only-of-type {\n",
       "        vertical-align: middle;\n",
       "    }\n",
       "\n",
       "    .dataframe tbody tr th {\n",
       "        vertical-align: top;\n",
       "    }\n",
       "\n",
       "    .dataframe thead th {\n",
       "        text-align: right;\n",
       "    }\n",
       "</style>\n",
       "<table border=\"1\" class=\"dataframe\">\n",
       "  <thead>\n",
       "    <tr style=\"text-align: right;\">\n",
       "      <th></th>\n",
       "      <th>Cell #</th>\n",
       "      <th>Hydrogen Production Rate (cc/s) Neutron</th>\n",
       "      <th>Polymer Production Rate (g/s) Neutron</th>\n",
       "      <th>Hydrogen Production Rate (cc/s) Photon</th>\n",
       "      <th>Polymer Production Rate (g/s) Photon</th>\n",
       "    </tr>\n",
       "  </thead>\n",
       "  <tbody>\n",
       "    <tr>\n",
       "      <th>0</th>\n",
       "      <td>13</td>\n",
       "      <td>0.202308</td>\n",
       "      <td>0.000865</td>\n",
       "      <td>0.020629</td>\n",
       "      <td>0.000088</td>\n",
       "    </tr>\n",
       "    <tr>\n",
       "      <th>1</th>\n",
       "      <td>14</td>\n",
       "      <td>0.182296</td>\n",
       "      <td>0.000779</td>\n",
       "      <td>0.019829</td>\n",
       "      <td>0.000085</td>\n",
       "    </tr>\n",
       "    <tr>\n",
       "      <th>2</th>\n",
       "      <td>13000</td>\n",
       "      <td>0.113698</td>\n",
       "      <td>0.000485</td>\n",
       "      <td>0.020596</td>\n",
       "      <td>0.000088</td>\n",
       "    </tr>\n",
       "    <tr>\n",
       "      <th>3</th>\n",
       "      <td>13001</td>\n",
       "      <td>0.052692</td>\n",
       "      <td>0.000225</td>\n",
       "      <td>0.011003</td>\n",
       "      <td>0.000047</td>\n",
       "    </tr>\n",
       "    <tr>\n",
       "      <th>4</th>\n",
       "      <td>14000</td>\n",
       "      <td>0.097876</td>\n",
       "      <td>0.000418</td>\n",
       "      <td>0.019952</td>\n",
       "      <td>0.000085</td>\n",
       "    </tr>\n",
       "    <tr>\n",
       "      <th>5</th>\n",
       "      <td>14001</td>\n",
       "      <td>0.045789</td>\n",
       "      <td>0.000196</td>\n",
       "      <td>0.010693</td>\n",
       "      <td>0.000046</td>\n",
       "    </tr>\n",
       "  </tbody>\n",
       "</table>\n",
       "</div>"
      ],
      "text/plain": [
       "  Cell #  Hydrogen Production Rate (cc/s) Neutron  \\\n",
       "0     13                                 0.202308   \n",
       "1     14                                 0.182296   \n",
       "2  13000                                 0.113698   \n",
       "3  13001                                 0.052692   \n",
       "4  14000                                 0.097876   \n",
       "5  14001                                 0.045789   \n",
       "\n",
       "   Polymer Production Rate (g/s) Neutron  \\\n",
       "0                               0.000865   \n",
       "1                               0.000779   \n",
       "2                               0.000485   \n",
       "3                               0.000225   \n",
       "4                               0.000418   \n",
       "5                               0.000196   \n",
       "\n",
       "   Hydrogen Production Rate (cc/s) Photon  \\\n",
       "0                                0.020629   \n",
       "1                                0.019829   \n",
       "2                                0.020596   \n",
       "3                                0.011003   \n",
       "4                                0.019952   \n",
       "5                                0.010693   \n",
       "\n",
       "   Polymer Production Rate (g/s) Photon  \n",
       "0                              0.000088  \n",
       "1                              0.000085  \n",
       "2                              0.000088  \n",
       "3                              0.000047  \n",
       "4                              0.000085  \n",
       "5                              0.000046  "
      ]
     },
     "execution_count": 6,
     "metadata": {},
     "output_type": "execute_result"
    }
   ],
   "source": [
    "TS1_Current_df_results = pd.DataFrame(columns = ['Cell #', \n",
    "                                                 'Hydrogen Production Rate (cc/s) Neutron',\n",
    "                                                 'Polymer Production Rate (g/s) Neutron',\n",
    "                                                 'Hydrogen Production Rate (cc/s) Photon',\n",
    "                                                 'Polymer Production Rate (g/s) Photon'])\n",
    "\n",
    "\n",
    "TS1_Current_df_results['Cell #'] = TS1_Current_df['Cell #']\n",
    "TS1_Current_df_results['Hydrogen Production Rate (cc/s) Neutron'] = TS1_Current_Hvol_n \n",
    "TS1_Current_df_results['Polymer Production Rate (g/s) Neutron'] = TS1_Current_Polymer_n \n",
    "TS1_Current_df_results['Hydrogen Production Rate (cc/s) Photon'] = TS1_Current_Hvol_p\n",
    "TS1_Current_df_results['Polymer Production Rate (g/s) Photon'] = TS1_Current_Polymer_p \n",
    "\n",
    "TS1_Current_df_results"
   ]
  },
  {
   "cell_type": "markdown",
   "metadata": {},
   "source": [
    "## Totals and checks\n",
    "- here ive worked out the overall dose rate by summing the raw energies and getting the absorbed dose rate per gram (on excel) for all particles combined. Then calculated the overall dose rate using this value (below) and found the volume of hydrogen gas and the rate of polymer produced in the moderator as a whole for all particles, the whole volume of methane and the whole mass of methane.\n",
    "### Total absorbed dose per gram (MeV/g/s) for all particles = 1.65E+12\n",
    "### Total volume = 4.75E+02 cc\n",
    "### Total Mass = 2.09E+02 g"
   ]
  },
  {
   "cell_type": "code",
   "execution_count": 26,
   "metadata": {},
   "outputs": [
    {
     "name": "stdout",
     "output_type": "stream",
     "text": [
      "Absorbed dose rate for all particles =  0.0002643597 MGy/s\n",
      "Hydrogen production rate for all particles, total dose rate and volume =  0.7982690096304 cm3/s\n",
      "Polymer production rate for all particles, total dose rate and mass =  0.00340347252168 g/s\n"
     ]
    }
   ],
   "source": [
    "Total_MGy_per_s = MeV_per_g_per_sec_to_MGy_per_sec(1.65E+12)\n",
    "print('Absorbed dose rate for all particles = ', Total_MGy_per_s, 'MGy/s')\n",
    "\n",
    "\n",
    "Overall_h_production_rate = vol_of_H_per_s(moles_H_per_MGyg, 4.75E+02, Total_MGy_per_s, 0.43)\n",
    "print('Hydrogen production rate for all particles, total dose rate and volume = ', Overall_h_production_rate, 'cm3/s')\n",
    "\n",
    "Overall_pol_production_rate = rate_of_pol_form(0.22e-6, Mr_20, Total_MGy_per_s, 2.09E+02)\n",
    "print('Polymer production rate for all particles, total dose rate and mass = ', Overall_pol_production_rate, 'g/s')"
   ]
  },
  {
   "cell_type": "code",
   "execution_count": 8,
   "metadata": {},
   "outputs": [
    {
     "name": "stdout",
     "output_type": "stream",
     "text": [
      "0.6946590394368981 0.10270195510950145\n",
      "Total hydrogen production rate for all particles, using split data =  0.7973609945463995 cm3/s\n",
      "0.0029674727394681604 0.00043869413627424\n",
      "Total polymer production rate for all particles, using split data =  0.0034061668757424004 g/s\n"
     ]
    }
   ],
   "source": [
    "tot_h_n = TS1_Current_df_results['Hydrogen Production Rate (cc/s) Neutron'].sum()\n",
    "tot_h_p = TS1_Current_df_results['Hydrogen Production Rate (cc/s) Photon'].sum()\n",
    "\n",
    "print(tot_h_n, tot_h_p)\n",
    "print('Total hydrogen production rate for all particles, using split data = ', tot_h_n + tot_h_p, 'cm3/s') \n",
    "#ever so slightly different to total from total dose rate but likely just rounding \n",
    "\n",
    "tot_pol_n = TS1_Current_df_results['Polymer Production Rate (g/s) Neutron'].sum()\n",
    "tot_pol_p = TS1_Current_df_results['Polymer Production Rate (g/s) Photon'].sum()\n",
    "print(tot_pol_n, tot_pol_p)\n",
    "print('Total polymer production rate for all particles, using split data = ', tot_pol_n + tot_pol_p, 'g/s')\n",
    "#again ever so slightly different to total from total dose rate but likely just rounding"
   ]
  },
  {
   "cell_type": "markdown",
   "metadata": {},
   "source": [
    "# Dwell Times"
   ]
  },
  {
   "cell_type": "markdown",
   "metadata": {},
   "source": [
    "## Percentages and Maximum\n",
    "First using the percentages for the total CH4 volume > 1s and >4s \n",
    "- Total > 1s = 85%\n",
    "- Total > 4s = 58%\n",
    "im not sure ive done this right as this takes the total dose over 85/58% of the mass - what do i do with the dose?, can i just do 85/58%? - im going to do that but im not sure if its right."
   ]
  },
  {
   "cell_type": "markdown",
   "metadata": {},
   "source": [
    "### Greater than 1s\n",
    "- greater than 1 but up to the maximum of 6.8 (i think)\n",
    "- 85% of the volume is greater than 1s so ive taken it as 85% of the dose too?"
   ]
  },
  {
   "cell_type": "code",
   "execution_count": 38,
   "metadata": {},
   "outputs": [
    {
     "name": "stdout",
     "output_type": "stream",
     "text": [
      "403.75\n",
      "178.05375\n",
      "0.000224705745\n"
     ]
    }
   ],
   "source": [
    "gt_1s_vol_CH4 = 4.75E+02 * 0.85\n",
    "print(gt_1s_vol_CH4)\n",
    "\n",
    "gt_1s_mass_CH4 = gt_1s_vol_CH4 * 4.41E-01\n",
    "print(gt_1s_mass_CH4)\n",
    "\n",
    "gt_1s_dose_rate = Total_MGy_per_s * 0.85\n",
    "print(gt_1s_dose_rate)\n"
   ]
  },
  {
   "cell_type": "code",
   "execution_count": 39,
   "metadata": {},
   "outputs": [
    {
     "name": "stdout",
     "output_type": "stream",
     "text": [
      "0.002464597553497695 grams of polymer for 1.0 seconds\n",
      "0.0029575170641972337 grams of polymer for 1.2 seconds\n",
      "0.003450436574896773 grams of polymer for 1.4 seconds\n",
      "0.0039433560855963124 grams of polymer for 1.6 seconds\n",
      "0.00443627559629585 grams of polymer for 1.7999999999999998 seconds\n",
      "0.00492919510699539 grams of polymer for 2.0 seconds\n",
      "0.0054221146176949295 grams of polymer for 2.2 seconds\n",
      "0.005915034128394467 grams of polymer for 2.4 seconds\n",
      "0.006407953639094006 grams of polymer for 2.5999999999999996 seconds\n",
      "0.006900873149793546 grams of polymer for 2.8 seconds\n",
      "0.007393792660493085 grams of polymer for 3.0 seconds\n",
      "0.007886712171192623 grams of polymer for 3.1999999999999997 seconds\n",
      "0.008379631681892163 grams of polymer for 3.4 seconds\n",
      "0.0088725511925917 grams of polymer for 3.5999999999999996 seconds\n",
      "0.00936547070329124 grams of polymer for 3.8 seconds\n",
      "0.009858390213990778 grams of polymer for 3.9999999999999996 seconds\n",
      "0.010351309724690318 grams of polymer for 4.199999999999999 seconds\n",
      "0.010844229235389859 grams of polymer for 4.4 seconds\n",
      "0.011337148746089395 grams of polymer for 4.6 seconds\n",
      "0.011830068256788935 grams of polymer for 4.8 seconds\n",
      "0.012322987767488474 grams of polymer for 5.0 seconds\n",
      "0.012815907278188012 grams of polymer for 5.199999999999999 seconds\n",
      "0.013308826788887552 grams of polymer for 5.3999999999999995 seconds\n",
      "0.013801746299587091 grams of polymer for 5.6 seconds\n",
      "0.014294665810286631 grams of polymer for 5.8 seconds\n",
      "0.01478758532098617 grams of polymer for 6.0 seconds\n",
      "0.015280504831685707 grams of polymer for 6.199999999999999 seconds\n",
      "0.015773424342385246 grams of polymer for 6.3999999999999995 seconds\n",
      "0.016266343853084786 grams of polymer for 6.6 seconds\n",
      "0.016759263363784326 grams of polymer for 6.8 seconds\n"
     ]
    }
   ],
   "source": [
    "gt_1s_pol_rate = rate_of_pol_form(0.22e-6, Mr_20, gt_1s_dose_rate, gt_1s_mass_CH4)\n",
    "\n",
    "for i in np.linspace(1, 6.8, num=30):\n",
    "    print(gt_1s_pol_rate * i, 'grams of polymer for', i, 'seconds')\n"
   ]
  },
  {
   "cell_type": "markdown",
   "metadata": {},
   "source": [
    "### Greater than 4s\n",
    "- again up to the maximum of 6.8s\n",
    "- also taken dose as 58% but i dont think ive done this right"
   ]
  },
  {
   "cell_type": "code",
   "execution_count": 40,
   "metadata": {},
   "outputs": [
    {
     "name": "stdout",
     "output_type": "stream",
     "text": [
      "275.5\n",
      "121.4955\n",
      "0.00015332862599999999\n"
     ]
    }
   ],
   "source": [
    "gt_4s_vol_CH4 = 4.75E+02 * 0.58\n",
    "print(gt_4s_vol_CH4)\n",
    "\n",
    "gt_4s_mass_CH4 = gt_4s_vol_CH4 * 4.41E-01\n",
    "print(gt_4s_mass_CH4)\n",
    "\n",
    "gt_4s_dose_rate = Total_MGy_per_s * 0.58\n",
    "print(gt_4s_dose_rate)"
   ]
  },
  {
   "cell_type": "code",
   "execution_count": 41,
   "metadata": {},
   "outputs": [
    {
     "name": "stdout",
     "output_type": "stream",
     "text": [
      "0.00985839021399078 grams of polymer for 4.0 seconds\n",
      "0.010096351357087108 grams of polymer for 4.096551724137931 seconds\n",
      "0.01033431250018344 grams of polymer for 4.1931034482758625 seconds\n",
      "0.010572273643279768 grams of polymer for 4.289655172413793 seconds\n",
      "0.010810234786376096 grams of polymer for 4.386206896551724 seconds\n",
      "0.011048195929472425 grams of polymer for 4.482758620689655 seconds\n",
      "0.011286157072568756 grams of polymer for 4.5793103448275865 seconds\n",
      "0.011524118215665085 grams of polymer for 4.675862068965517 seconds\n",
      "0.011762079358761413 grams of polymer for 4.772413793103448 seconds\n",
      "0.012000040501857743 grams of polymer for 4.86896551724138 seconds\n",
      "0.012238001644954071 grams of polymer for 4.9655172413793105 seconds\n",
      "0.012475962788050401 grams of polymer for 5.062068965517241 seconds\n",
      "0.012713923931146731 grams of polymer for 5.158620689655173 seconds\n",
      "0.01295188507424306 grams of polymer for 5.255172413793104 seconds\n",
      "0.013189846217339388 grams of polymer for 5.3517241379310345 seconds\n",
      "0.013427807360435718 grams of polymer for 5.448275862068965 seconds\n",
      "0.013665768503532046 grams of polymer for 5.544827586206896 seconds\n",
      "0.013903729646628376 grams of polymer for 5.641379310344828 seconds\n",
      "0.014141690789724704 grams of polymer for 5.7379310344827585 seconds\n",
      "0.014379651932821032 grams of polymer for 5.834482758620689 seconds\n",
      "0.014617613075917364 grams of polymer for 5.931034482758621 seconds\n",
      "0.014855574219013692 grams of polymer for 6.027586206896552 seconds\n",
      "0.01509353536211002 grams of polymer for 6.124137931034483 seconds\n",
      "0.015331496505206352 grams of polymer for 6.220689655172414 seconds\n",
      "0.01556945764830268 grams of polymer for 6.317241379310345 seconds\n",
      "0.01580741879139901 grams of polymer for 6.413793103448276 seconds\n",
      "0.01604537993449534 grams of polymer for 6.5103448275862075 seconds\n",
      "0.016283341077591666 grams of polymer for 6.606896551724137 seconds\n",
      "0.016521302220687997 grams of polymer for 6.703448275862069 seconds\n",
      "0.016759263363784326 grams of polymer for 6.8 seconds\n"
     ]
    }
   ],
   "source": [
    "gt_4s_pol_rate = rate_of_pol_form(0.22e-6, Mr_20, gt_4s_dose_rate, gt_4s_mass_CH4)\n",
    "\n",
    "for j in np.linspace(4, 6.8, num=30):\n",
    "    print(gt_1s_pol_rate * j, 'grams of polymer for', j, 'seconds')"
   ]
  },
  {
   "cell_type": "markdown",
   "metadata": {},
   "source": [
    "### Maximum and average\n",
    "* per one cycle of the methane\n",
    "* for the moderator as a whole"
   ]
  },
  {
   "cell_type": "code",
   "execution_count": 35,
   "metadata": {},
   "outputs": [
    {
     "name": "stdout",
     "output_type": "stream",
     "text": [
      "maximum polymer produced per methane cycle = 0.023143613147423997 grams\n",
      "average polymer produced per methane cycle = 0.008849028556368 grams\n"
     ]
    }
   ],
   "source": [
    "max_pol_produced = Overall_pol_production_rate * 6.8\n",
    "avg_pol_produced = Overall_pol_production_rate * 2.6\n",
    "\n",
    "print('maximum polymer produced per methane cycle =',max_pol_produced, 'grams')\n",
    "print('average polymer produced per methane cycle =',avg_pol_produced, 'grams')"
   ]
  },
  {
   "cell_type": "code",
   "execution_count": null,
   "metadata": {},
   "outputs": [],
   "source": []
  }
 ],
 "metadata": {
  "kernelspec": {
   "display_name": "Python 3",
   "language": "python",
   "name": "python3"
  },
  "language_info": {
   "codemirror_mode": {
    "name": "ipython",
    "version": 3
   },
   "file_extension": ".py",
   "mimetype": "text/x-python",
   "name": "python",
   "nbconvert_exporter": "python",
   "pygments_lexer": "ipython3",
   "version": "3.8.3"
  }
 },
 "nbformat": 4,
 "nbformat_minor": 4
}
