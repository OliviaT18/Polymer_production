{
 "cells": [
  {
   "cell_type": "markdown",
   "metadata": {},
   "source": [
    "# ISIS TS1 Current Moderator Hydrogen gas and Polymer Production\n",
    "## Initial Splitting\n",
    "\n",
    "This is the hydrogen gas and polymer production for the first split of the TS1 Current moderator. It was initially split into 6 sections.\n",
    "- Includes results for neutrons and photons\n",
    "- Dwell times here were the percentages and averages from the powerpoint by Nathan O’Donoghue 2018 for the 'fine' simulation\n",
    "\n",
    "Evans paper : Evans, D., 1995. Irradiation effects in liquid methane used as a neutron moderator. Cryogenics, 35(11), pp.763-766."
   ]
  },
  {
   "cell_type": "code",
   "execution_count": 1,
   "metadata": {},
   "outputs": [],
   "source": [
    "import numpy as np\n",
    "import pandas as pd\n",
    "\n",
    "from Polymer_Production_Functions import moles_per_MGy_per_g\n",
    "from Polymer_Production_Functions import radicals_per_MGy_per_g\n",
    "from Polymer_Production_Functions import vol_of_H_per_s\n",
    "from Polymer_Production_Functions import rate_of_pol_form\n",
    "from Polymer_Production_Functions import molecular_weight\n",
    "from Polymer_Production_Functions import MeV_per_g_per_sec_to_MGy_per_sec"
   ]
  },
  {
   "cell_type": "markdown",
   "metadata": {},
   "source": [
    "# Moles of Hydrogen gas and Polymer per MGy per gram of CH4, Number of Hydrogen and Polymer Radicals per MGy per gram of CH4, Molecular weight of Polymer\n",
    "- G-Values for CH4 in umol/J, taken from Evans paper.\n",
    "     - G-Values in evans paper are the yield in solid methane, g values in liquid are unknown\n",
    "     - though i would say initial moles etc are likely very similar in liquid and solid, the main difference being the rate of formation\n",
    "- Molecular weight - in Evans paper the polymer is said to be (CH2)n where n is the chain length. It is thought the chain length does not exceed n=20 so this is for the maximum chain length."
   ]
  },
  {
   "cell_type": "code",
   "execution_count": 43,
   "metadata": {},
   "outputs": [
    {
     "name": "stdout",
     "output_type": "stream",
     "text": [
      "0.00066 moles of Hydrogen gas per MGy per gram of CH4\n",
      "3.97518e+20 radicals/g.MGy of Hydrogen\n",
      "0.00022 moles of Polymer per MGy per gram of CH4\n",
      "1.32506e+20 radicals/g.MGy of Polymer\n",
      "Molecular weight of the polymer (CH2)n for the max chain length of 20 = 280\n"
     ]
    }
   ],
   "source": [
    "moles_H_per_MGyg = moles_per_MGy_per_g(0.66e-6)\n",
    "print (moles_H_per_MGyg, 'moles of Hydrogen gas per MGy per gram of CH4')\n",
    "print (radicals_per_MGy_per_g(moles_H_per_MGyg), 'radicals/g.MGy of Hydrogen')\n",
    "\n",
    "moles_Pol_per_MGyg = moles_per_MGy_per_g(0.22e-6)\n",
    "print (moles_Pol_per_MGyg, 'moles of Polymer per MGy per gram of CH4')\n",
    "print (radicals_per_MGy_per_g(moles_Pol_per_MGyg), 'radicals/g.MGy of Polymer')\n",
    "\n",
    "Mr_20 = molecular_weight(20)\n",
    "print('Molecular weight of the polymer (CH2)n for the max chain length of 20 =', Mr_20)"
   ]
  },
  {
   "cell_type": "markdown",
   "metadata": {},
   "source": [
    "# TS1 Current Moderator"
   ]
  },
  {
   "cell_type": "markdown",
   "metadata": {},
   "source": [
    "## Setting up dataframe for the split moderator \n",
    "- Absorbed dose rate calculated for both photons and neutrons \n",
    "- Particles of sufficient energy can cause bond cleavage so can assume all particles produced contribute\n",
    "    - however unsure of the weighting - neutrons are high LET and photons low LET, im not sure which causes more reactive species to be made or if theres even a way to find out."
   ]
  },
  {
   "cell_type": "code",
   "execution_count": 44,
   "metadata": {},
   "outputs": [
    {
     "data": {
      "text/html": [
       "<div>\n",
       "<style scoped>\n",
       "    .dataframe tbody tr th:only-of-type {\n",
       "        vertical-align: middle;\n",
       "    }\n",
       "\n",
       "    .dataframe tbody tr th {\n",
       "        vertical-align: top;\n",
       "    }\n",
       "\n",
       "    .dataframe thead th {\n",
       "        text-align: right;\n",
       "    }\n",
       "</style>\n",
       "<table border=\"1\" class=\"dataframe\">\n",
       "  <thead>\n",
       "    <tr style=\"text-align: right;\">\n",
       "      <th></th>\n",
       "      <th>Cell #</th>\n",
       "      <th>CH4 Vol (cc)</th>\n",
       "      <th>CH4 Mass (g)</th>\n",
       "      <th>Energy Deposited (MeV/g/s) Neutron</th>\n",
       "      <th>Energy Deposited (MeV/g/s) Photon</th>\n",
       "      <th>Dose Rate (MGy/s) Neutron</th>\n",
       "      <th>Dose Rate (MGy/s) Photon</th>\n",
       "    </tr>\n",
       "  </thead>\n",
       "  <tbody>\n",
       "    <tr>\n",
       "      <th>0</th>\n",
       "      <td>13</td>\n",
       "      <td>78.2</td>\n",
       "      <td>34.5</td>\n",
       "      <td>2.540000e+12</td>\n",
       "      <td>2.590000e+11</td>\n",
       "      <td>0.000407</td>\n",
       "      <td>0.000041</td>\n",
       "    </tr>\n",
       "    <tr>\n",
       "      <th>1</th>\n",
       "      <td>14</td>\n",
       "      <td>78.5</td>\n",
       "      <td>34.6</td>\n",
       "      <td>2.280000e+12</td>\n",
       "      <td>2.480000e+11</td>\n",
       "      <td>0.000365</td>\n",
       "      <td>0.000040</td>\n",
       "    </tr>\n",
       "    <tr>\n",
       "      <th>2</th>\n",
       "      <td>13000</td>\n",
       "      <td>91.5</td>\n",
       "      <td>40.3</td>\n",
       "      <td>1.220000e+12</td>\n",
       "      <td>2.210000e+11</td>\n",
       "      <td>0.000195</td>\n",
       "      <td>0.000035</td>\n",
       "    </tr>\n",
       "    <tr>\n",
       "      <th>3</th>\n",
       "      <td>13001</td>\n",
       "      <td>67.1</td>\n",
       "      <td>29.6</td>\n",
       "      <td>7.710000e+11</td>\n",
       "      <td>1.610000e+11</td>\n",
       "      <td>0.000124</td>\n",
       "      <td>0.000026</td>\n",
       "    </tr>\n",
       "    <tr>\n",
       "      <th>4</th>\n",
       "      <td>14000</td>\n",
       "      <td>92.4</td>\n",
       "      <td>40.7</td>\n",
       "      <td>1.040000e+12</td>\n",
       "      <td>2.120000e+11</td>\n",
       "      <td>0.000167</td>\n",
       "      <td>0.000034</td>\n",
       "    </tr>\n",
       "    <tr>\n",
       "      <th>5</th>\n",
       "      <td>14001</td>\n",
       "      <td>67.3</td>\n",
       "      <td>29.7</td>\n",
       "      <td>6.680000e+11</td>\n",
       "      <td>1.560000e+11</td>\n",
       "      <td>0.000107</td>\n",
       "      <td>0.000025</td>\n",
       "    </tr>\n",
       "  </tbody>\n",
       "</table>\n",
       "</div>"
      ],
      "text/plain": [
       "  Cell #  CH4 Vol (cc)  CH4 Mass (g)  Energy Deposited (MeV/g/s) Neutron  \\\n",
       "0     13          78.2          34.5                        2.540000e+12   \n",
       "1     14          78.5          34.6                        2.280000e+12   \n",
       "2  13000          91.5          40.3                        1.220000e+12   \n",
       "3  13001          67.1          29.6                        7.710000e+11   \n",
       "4  14000          92.4          40.7                        1.040000e+12   \n",
       "5  14001          67.3          29.7                        6.680000e+11   \n",
       "\n",
       "   Energy Deposited (MeV/g/s) Photon  Dose Rate (MGy/s) Neutron  \\\n",
       "0                       2.590000e+11                   0.000407   \n",
       "1                       2.480000e+11                   0.000365   \n",
       "2                       2.210000e+11                   0.000195   \n",
       "3                       1.610000e+11                   0.000124   \n",
       "4                       2.120000e+11                   0.000167   \n",
       "5                       1.560000e+11                   0.000107   \n",
       "\n",
       "   Dose Rate (MGy/s) Photon  \n",
       "0                  0.000041  \n",
       "1                  0.000040  \n",
       "2                  0.000035  \n",
       "3                  0.000026  \n",
       "4                  0.000034  \n",
       "5                  0.000025  "
      ]
     },
     "execution_count": 44,
     "metadata": {},
     "output_type": "execute_result"
    }
   ],
   "source": [
    "TS1_Current_Data = {'Cell #': ['13', '14', '13000', '13001', '14000', '14001'],\n",
    "                    'CH4 Vol (cc)': [7.82E+01, 7.85E+01, 9.15E+01, 6.71E+01, 9.24E+01, 6.73E+01],\n",
    "                    'CH4 Mass (g)': [3.45E+01, 3.46E+01, 4.03E+01, 2.96E+01, 4.07E+01, 2.97E+01],\n",
    "                    'Energy Deposited (MeV/g/s) Neutron':[2.54E+12, 2.28E+12, 1.22E+12, 7.71E+11, 1.04E+12, 6.68E+11],\n",
    "                    'Energy Deposited (MeV/g/s) Photon':[2.59E+11, 2.48E+11 ,2.21E+11, 1.61E+11, 2.12E+11, 1.56E+11],\n",
    "                   }\n",
    "\n",
    "TS1_Current_df = pd.DataFrame(TS1_Current_Data, columns =['Cell #','CH4 Vol (cc)', 'CH4 Mass (g)', \n",
    "                                                            'Energy Deposited (MeV/g/s) Neutron', \n",
    "                                                            'Energy Deposited (MeV/g/s) Photon'])\n",
    "\n",
    "TS1_Current_df['Dose Rate (MGy/s) Neutron'] = MeV_per_g_per_sec_to_MGy_per_sec(TS1_Current_df['Energy Deposited (MeV/g/s) Neutron'])\n",
    "TS1_Current_df['Dose Rate (MGy/s) Photon'] = MeV_per_g_per_sec_to_MGy_per_sec(TS1_Current_df['Energy Deposited (MeV/g/s) Photon'])\n",
    "\n",
    "\n",
    "\n",
    "TS1_Current_df"
   ]
  },
  {
   "cell_type": "markdown",
   "metadata": {},
   "source": [
    "## Hydrogen gas production rate\n",
    "- Again calculated for each particle for the split moderator \n",
    "- 0.43 is the Specific Gravity (as referenced in the Evans paper), in the case of this function it basically acts as the density in cm3/g"
   ]
  },
  {
   "cell_type": "code",
   "execution_count": 45,
   "metadata": {},
   "outputs": [],
   "source": [
    "TS1_Current_Hvol_n = vol_of_H_per_s(moles_H_per_MGyg, TS1_Current_df['CH4 Vol (cc)'], TS1_Current_df['Dose Rate (MGy/s) Neutron'], 0.43)\n",
    "TS1_Current_Hvol_p = vol_of_H_per_s(moles_H_per_MGyg, TS1_Current_df['CH4 Vol (cc)'], TS1_Current_df['Dose Rate (MGy/s) Photon'], 0.43)"
   ]
  },
  {
   "cell_type": "markdown",
   "metadata": {},
   "source": [
    "## Polymer production rate"
   ]
  },
  {
   "cell_type": "code",
   "execution_count": 46,
   "metadata": {},
   "outputs": [],
   "source": [
    "TS1_Current_Polymer_n = rate_of_pol_form(0.22e-6, Mr_20, TS1_Current_df['Dose Rate (MGy/s) Neutron'], TS1_Current_df['CH4 Mass (g)'])\n",
    "TS1_Current_Polymer_p = rate_of_pol_form(0.22e-6, Mr_20, TS1_Current_df['Dose Rate (MGy/s) Photon'], TS1_Current_df['CH4 Mass (g)'])"
   ]
  },
  {
   "cell_type": "markdown",
   "metadata": {},
   "source": [
    "## Results"
   ]
  },
  {
   "cell_type": "code",
   "execution_count": 47,
   "metadata": {},
   "outputs": [
    {
     "data": {
      "text/html": [
       "<div>\n",
       "<style scoped>\n",
       "    .dataframe tbody tr th:only-of-type {\n",
       "        vertical-align: middle;\n",
       "    }\n",
       "\n",
       "    .dataframe tbody tr th {\n",
       "        vertical-align: top;\n",
       "    }\n",
       "\n",
       "    .dataframe thead th {\n",
       "        text-align: right;\n",
       "    }\n",
       "</style>\n",
       "<table border=\"1\" class=\"dataframe\">\n",
       "  <thead>\n",
       "    <tr style=\"text-align: right;\">\n",
       "      <th></th>\n",
       "      <th>Cell #</th>\n",
       "      <th>Hydrogen Production Rate (cc/s) Neutron</th>\n",
       "      <th>Polymer Production Rate (g/s) Neutron</th>\n",
       "      <th>Hydrogen Production Rate (cc/s) Photon</th>\n",
       "      <th>Polymer Production Rate (g/s) Photon</th>\n",
       "    </tr>\n",
       "  </thead>\n",
       "  <tbody>\n",
       "    <tr>\n",
       "      <th>0</th>\n",
       "      <td>13</td>\n",
       "      <td>0.202308</td>\n",
       "      <td>0.000865</td>\n",
       "      <td>0.020629</td>\n",
       "      <td>0.000088</td>\n",
       "    </tr>\n",
       "    <tr>\n",
       "      <th>1</th>\n",
       "      <td>14</td>\n",
       "      <td>0.182296</td>\n",
       "      <td>0.000779</td>\n",
       "      <td>0.019829</td>\n",
       "      <td>0.000085</td>\n",
       "    </tr>\n",
       "    <tr>\n",
       "      <th>2</th>\n",
       "      <td>13000</td>\n",
       "      <td>0.113698</td>\n",
       "      <td>0.000485</td>\n",
       "      <td>0.020596</td>\n",
       "      <td>0.000088</td>\n",
       "    </tr>\n",
       "    <tr>\n",
       "      <th>3</th>\n",
       "      <td>13001</td>\n",
       "      <td>0.052692</td>\n",
       "      <td>0.000225</td>\n",
       "      <td>0.011003</td>\n",
       "      <td>0.000047</td>\n",
       "    </tr>\n",
       "    <tr>\n",
       "      <th>4</th>\n",
       "      <td>14000</td>\n",
       "      <td>0.097876</td>\n",
       "      <td>0.000418</td>\n",
       "      <td>0.019952</td>\n",
       "      <td>0.000085</td>\n",
       "    </tr>\n",
       "    <tr>\n",
       "      <th>5</th>\n",
       "      <td>14001</td>\n",
       "      <td>0.045789</td>\n",
       "      <td>0.000196</td>\n",
       "      <td>0.010693</td>\n",
       "      <td>0.000046</td>\n",
       "    </tr>\n",
       "  </tbody>\n",
       "</table>\n",
       "</div>"
      ],
      "text/plain": [
       "  Cell #  Hydrogen Production Rate (cc/s) Neutron  \\\n",
       "0     13                                 0.202308   \n",
       "1     14                                 0.182296   \n",
       "2  13000                                 0.113698   \n",
       "3  13001                                 0.052692   \n",
       "4  14000                                 0.097876   \n",
       "5  14001                                 0.045789   \n",
       "\n",
       "   Polymer Production Rate (g/s) Neutron  \\\n",
       "0                               0.000865   \n",
       "1                               0.000779   \n",
       "2                               0.000485   \n",
       "3                               0.000225   \n",
       "4                               0.000418   \n",
       "5                               0.000196   \n",
       "\n",
       "   Hydrogen Production Rate (cc/s) Photon  \\\n",
       "0                                0.020629   \n",
       "1                                0.019829   \n",
       "2                                0.020596   \n",
       "3                                0.011003   \n",
       "4                                0.019952   \n",
       "5                                0.010693   \n",
       "\n",
       "   Polymer Production Rate (g/s) Photon  \n",
       "0                              0.000088  \n",
       "1                              0.000085  \n",
       "2                              0.000088  \n",
       "3                              0.000047  \n",
       "4                              0.000085  \n",
       "5                              0.000046  "
      ]
     },
     "execution_count": 47,
     "metadata": {},
     "output_type": "execute_result"
    }
   ],
   "source": [
    "TS1_Current_df_results = pd.DataFrame(columns = ['Cell #', \n",
    "                                                 'Hydrogen Production Rate (cc/s) Neutron',\n",
    "                                                 'Polymer Production Rate (g/s) Neutron',\n",
    "                                                 'Hydrogen Production Rate (cc/s) Photon',\n",
    "                                                 'Polymer Production Rate (g/s) Photon'])\n",
    "\n",
    "\n",
    "TS1_Current_df_results['Cell #'] = TS1_Current_df['Cell #']\n",
    "TS1_Current_df_results['Hydrogen Production Rate (cc/s) Neutron'] = TS1_Current_Hvol_n \n",
    "TS1_Current_df_results['Polymer Production Rate (g/s) Neutron'] = TS1_Current_Polymer_n \n",
    "TS1_Current_df_results['Hydrogen Production Rate (cc/s) Photon'] = TS1_Current_Hvol_p\n",
    "TS1_Current_df_results['Polymer Production Rate (g/s) Photon'] = TS1_Current_Polymer_p \n",
    "\n",
    "TS1_Current_df_results"
   ]
  },
  {
   "cell_type": "markdown",
   "metadata": {},
   "source": [
    "## Totals and checks\n",
    "- here ive worked out the overall dose rate by summing the raw energies and getting the absorbed dose rate per gram (on excel) for all particles combined. Then calculated the overall dose rate using this value (below) and found the volume of hydrogen gas and the rate of polymer produced in the moderator as a whole for all particles, the whole volume of methane and the whole mass of methane.\n",
    "### Total absorbed dose per gram (MeV/g/s) for all particles = 1.65E+12\n",
    "### Total volume = 4.75E+02 cc\n",
    "### Total Mass = 2.09E+02 g"
   ]
  },
  {
   "cell_type": "code",
   "execution_count": 48,
   "metadata": {},
   "outputs": [
    {
     "name": "stdout",
     "output_type": "stream",
     "text": [
      "Absorbed dose rate for all particles =  0.0002643597 MGy/s\n",
      "Hydrogen production rate for all particles, total dose rate and volume =  0.7982690096304 cm3/s\n",
      "Polymer production rate for all particles, total dose rate and mass =  0.00340347252168 g/s\n"
     ]
    }
   ],
   "source": [
    "Total_MGy_per_s = MeV_per_g_per_sec_to_MGy_per_sec(1.65E+12)\n",
    "print('Absorbed dose rate for all particles = ', Total_MGy_per_s, 'MGy/s')\n",
    "\n",
    "\n",
    "Overall_h_production_rate = vol_of_H_per_s(moles_H_per_MGyg, 4.75E+02, Total_MGy_per_s, 0.43)\n",
    "print('Hydrogen production rate for all particles, total dose rate and volume = ', Overall_h_production_rate, 'cm3/s')\n",
    "\n",
    "Overall_pol_production_rate = rate_of_pol_form(0.22e-6, Mr_20, Total_MGy_per_s, 2.09E+02)\n",
    "print('Polymer production rate for all particles, total dose rate and mass = ', Overall_pol_production_rate, 'g/s')"
   ]
  },
  {
   "cell_type": "code",
   "execution_count": 49,
   "metadata": {},
   "outputs": [
    {
     "name": "stdout",
     "output_type": "stream",
     "text": [
      "0.6946590394368981 0.10270195510950145\n",
      "Total hydrogen production rate for all particles, using split data =  0.7973609945463995 cm3/s\n",
      "0.0029674727394681604 0.00043869413627424\n",
      "Total polymer production rate for all particles, using split data =  0.0034061668757424004 g/s\n"
     ]
    }
   ],
   "source": [
    "tot_h_n = TS1_Current_df_results['Hydrogen Production Rate (cc/s) Neutron'].sum()\n",
    "tot_h_p = TS1_Current_df_results['Hydrogen Production Rate (cc/s) Photon'].sum()\n",
    "\n",
    "print(tot_h_n, tot_h_p)\n",
    "print('Total hydrogen production rate for all particles, using split data = ', tot_h_n + tot_h_p, 'cm3/s') \n",
    "#ever so slightly different to total from total dose rate but likely just rounding \n",
    "\n",
    "tot_pol_n = TS1_Current_df_results['Polymer Production Rate (g/s) Neutron'].sum()\n",
    "tot_pol_p = TS1_Current_df_results['Polymer Production Rate (g/s) Photon'].sum()\n",
    "print(tot_pol_n, tot_pol_p)\n",
    "print('Total polymer production rate for all particles, using split data = ', tot_pol_n + tot_pol_p, 'g/s')\n",
    "#again ever so slightly different to total from total dose rate but likely just rounding"
   ]
  },
  {
   "cell_type": "markdown",
   "metadata": {},
   "source": [
    "# Dwell Times"
   ]
  },
  {
   "cell_type": "markdown",
   "metadata": {},
   "source": [
    "## Percentages and Maximum\n",
    "First using the percentages for the total CH4 volume > 1s and >4s \n",
    "- Total > 1s = 85%\n",
    "- Total > 4s = 58%\n"
   ]
  },
  {
   "cell_type": "markdown",
   "metadata": {},
   "source": [
    "### Greater than 1s\n",
    "- greater than 1 but up to the maximum of 6.8 (i think)\n",
    "- 85% of the volume is greater than 1s, so same as 85% of the mass right? (worked out mass from vol using the 1cc value on the excel sheet rather than just doing 85% of the mass)\n",
    "- use the total absorbed dose rate as it accounts for the volume/mass"
   ]
  },
  {
   "cell_type": "code",
   "execution_count": 74,
   "metadata": {},
   "outputs": [
    {
     "name": "stdout",
     "output_type": "stream",
     "text": [
      "85% the volume of CH4 403.75\n",
      "mass of CH4 in 85% of the volume 178.05375\n"
     ]
    }
   ],
   "source": [
    "gt_1s_vol_CH4 = 4.75E+02 * 0.85\n",
    "print('85% the volume of CH4', gt_1s_vol_CH4)\n",
    "\n",
    "gt_1s_mass_CH4 = gt_1s_vol_CH4 * 4.41E-01\n",
    "print('mass of CH4 in 85% of the volume', gt_1s_mass_CH4)\n"
   ]
  },
  {
   "cell_type": "code",
   "execution_count": 79,
   "metadata": {},
   "outputs": [
    {
     "name": "stdout",
     "output_type": "stream",
     "text": [
      "polymer production rate for 85% of the volume of CH4 = 0.0028995265335267 g/s\n",
      "0.0028995265335267 grams of polymer produced for 1.0 seconds\n",
      "0.00347943184023204 grams of polymer produced for 1.2 seconds\n",
      "0.00405933714693738 grams of polymer produced for 1.4 seconds\n",
      "0.004639242453642721 grams of polymer produced for 1.6 seconds\n",
      "0.00521914776034806 grams of polymer produced for 1.7999999999999998 seconds\n",
      "0.0057990530670534 grams of polymer produced for 2.0 seconds\n",
      "0.006378958373758741 grams of polymer produced for 2.2 seconds\n",
      "0.00695886368046408 grams of polymer produced for 2.4 seconds\n",
      "0.0075387689871694195 grams of polymer produced for 2.5999999999999996 seconds\n",
      "0.00811867429387476 grams of polymer produced for 2.8 seconds\n",
      "0.008698579600580101 grams of polymer produced for 3.0 seconds\n",
      "0.00927848490728544 grams of polymer produced for 3.1999999999999997 seconds\n",
      "0.00985839021399078 grams of polymer produced for 3.4 seconds\n",
      "0.01043829552069612 grams of polymer produced for 3.5999999999999996 seconds\n",
      "0.01101820082740146 grams of polymer produced for 3.8 seconds\n",
      "0.011598106134106799 grams of polymer produced for 3.9999999999999996 seconds\n",
      "0.01217801144081214 grams of polymer produced for 4.199999999999999 seconds\n",
      "0.012757916747517481 grams of polymer produced for 4.4 seconds\n",
      "0.01333782205422282 grams of polymer produced for 4.6 seconds\n",
      "0.01391772736092816 grams of polymer produced for 4.8 seconds\n",
      "0.0144976326676335 grams of polymer produced for 5.0 seconds\n",
      "0.015077537974338839 grams of polymer produced for 5.199999999999999 seconds\n",
      "0.01565744328104418 grams of polymer produced for 5.3999999999999995 seconds\n",
      "0.01623734858774952 grams of polymer produced for 5.6 seconds\n",
      "0.01681725389445486 grams of polymer produced for 5.8 seconds\n",
      "0.017397159201160202 grams of polymer produced for 6.0 seconds\n",
      "0.01797706450786554 grams of polymer produced for 6.199999999999999 seconds\n",
      "0.01855696981457088 grams of polymer produced for 6.3999999999999995 seconds\n",
      "0.01913687512127622 grams of polymer produced for 6.6 seconds\n",
      "0.01971678042798156 grams of polymer produced for 6.8 seconds\n"
     ]
    }
   ],
   "source": [
    "gt_1s_pol_rate = rate_of_pol_form(0.22e-6, Mr_20, Total_MGy_per_s, gt_1s_mass_CH4)\n",
    "print('polymer production rate for 85% of the volume of CH4 =', gt_1s_pol_rate, 'g/s')\n",
    "\n",
    "for i in np.linspace(1, 6.8, num=30):\n",
    "    print(gt_1s_pol_rate * i, 'grams of polymer produced for', i, 'seconds')\n"
   ]
  },
  {
   "cell_type": "markdown",
   "metadata": {},
   "source": [
    "### Greater than 4s\n",
    "- again up to the maximum of 6.8s"
   ]
  },
  {
   "cell_type": "code",
   "execution_count": 76,
   "metadata": {},
   "outputs": [
    {
     "name": "stdout",
     "output_type": "stream",
     "text": [
      "58% the volume of CH4 275.5\n",
      "mass of CH4 in 58% of the volume 121.4955\n"
     ]
    }
   ],
   "source": [
    "gt_4s_vol_CH4 = 4.75E+02 * 0.58\n",
    "print('58% the volume of CH4', gt_4s_vol_CH4)\n",
    "\n",
    "gt_4s_mass_CH4 = gt_4s_vol_CH4 * 4.41E-01\n",
    "print('mass of CH4 in 58% of the volume', gt_4s_mass_CH4)\n"
   ]
  },
  {
   "cell_type": "code",
   "execution_count": 80,
   "metadata": {},
   "outputs": [
    {
     "name": "stdout",
     "output_type": "stream",
     "text": [
      "polymer production rate for 58% of the volume of CH4 = 0.00197850045817116 g/s\n",
      "0.0115981061341068 grams of polymer produced for 4.0 seconds\n",
      "0.011878060420102482 grams of polymer produced for 4.096551724137931 seconds\n",
      "0.012158014706098164 grams of polymer produced for 4.1931034482758625 seconds\n",
      "0.012437968992093845 grams of polymer produced for 4.289655172413793 seconds\n",
      "0.012717923278089526 grams of polymer produced for 4.386206896551724 seconds\n",
      "0.012997877564085207 grams of polymer produced for 4.482758620689655 seconds\n",
      "0.01327783185008089 grams of polymer produced for 4.5793103448275865 seconds\n",
      "0.01355778613607657 grams of polymer produced for 4.675862068965517 seconds\n",
      "0.013837740422072252 grams of polymer produced for 4.772413793103448 seconds\n",
      "0.014117694708067934 grams of polymer produced for 4.86896551724138 seconds\n",
      "0.014397648994063615 grams of polymer produced for 4.9655172413793105 seconds\n",
      "0.014677603280059296 grams of polymer produced for 5.062068965517241 seconds\n",
      "0.014957557566054979 grams of polymer produced for 5.158620689655173 seconds\n",
      "0.01523751185205066 grams of polymer produced for 5.255172413793104 seconds\n",
      "0.01551746613804634 grams of polymer produced for 5.3517241379310345 seconds\n",
      "0.01579742042404202 grams of polymer produced for 5.448275862068965 seconds\n",
      "0.0160773747100377 grams of polymer produced for 5.544827586206896 seconds\n",
      "0.016357328996033385 grams of polymer produced for 5.641379310344828 seconds\n",
      "0.016637283282029066 grams of polymer produced for 5.7379310344827585 seconds\n",
      "0.016917237568024747 grams of polymer produced for 5.834482758620689 seconds\n",
      "0.017197191854020428 grams of polymer produced for 5.931034482758621 seconds\n",
      "0.01747714614001611 grams of polymer produced for 6.027586206896552 seconds\n",
      "0.01775710042601179 grams of polymer produced for 6.124137931034483 seconds\n",
      "0.018037054712007474 grams of polymer produced for 6.220689655172414 seconds\n",
      "0.018317008998003155 grams of polymer produced for 6.317241379310345 seconds\n",
      "0.018596963283998836 grams of polymer produced for 6.413793103448276 seconds\n",
      "0.01887691756999452 grams of polymer produced for 6.5103448275862075 seconds\n",
      "0.019156871855990198 grams of polymer produced for 6.606896551724137 seconds\n",
      "0.01943682614198588 grams of polymer produced for 6.703448275862069 seconds\n",
      "0.01971678042798156 grams of polymer produced for 6.8 seconds\n"
     ]
    }
   ],
   "source": [
    "gt_4s_pol_rate = rate_of_pol_form(0.22e-6, Mr_20, Total_MGy_per_s, gt_4s_mass_CH4)\n",
    "print('polymer production rate for 58% of the volume of CH4 =', gt_4s_pol_rate, 'g/s')\n",
    "\n",
    "for j in np.linspace(4, 6.8, num=30):\n",
    "    print(gt_1s_pol_rate * j, 'grams of polymer produced for', j, 'seconds')"
   ]
  },
  {
   "cell_type": "markdown",
   "metadata": {},
   "source": [
    "### Maximum and average\n",
    "* per one cycle of the methane\n",
    "* for the moderator as a whole"
   ]
  },
  {
   "cell_type": "code",
   "execution_count": 54,
   "metadata": {},
   "outputs": [
    {
     "name": "stdout",
     "output_type": "stream",
     "text": [
      "maximum polymer produced per methane cycle = 0.023143613147423997 grams\n",
      "average polymer produced per methane cycle = 0.008849028556368 grams\n"
     ]
    }
   ],
   "source": [
    "max_pol_produced = Overall_pol_production_rate * 6.8\n",
    "avg_pol_produced = Overall_pol_production_rate * 2.6\n",
    "\n",
    "print('maximum polymer produced per methane cycle =',max_pol_produced, 'grams')\n",
    "print('average polymer produced per methane cycle =',avg_pol_produced, 'grams')"
   ]
  },
  {
   "cell_type": "code",
   "execution_count": null,
   "metadata": {},
   "outputs": [],
   "source": []
  }
 ],
 "metadata": {
  "kernelspec": {
   "display_name": "Python 3",
   "language": "python",
   "name": "python3"
  },
  "language_info": {
   "codemirror_mode": {
    "name": "ipython",
    "version": 3
   },
   "file_extension": ".py",
   "mimetype": "text/x-python",
   "name": "python",
   "nbconvert_exporter": "python",
   "pygments_lexer": "ipython3",
   "version": "3.8.3"
  }
 },
 "nbformat": 4,
 "nbformat_minor": 4
}
