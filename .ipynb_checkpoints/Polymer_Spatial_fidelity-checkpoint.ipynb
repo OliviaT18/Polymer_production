{
 "cells": [
  {
   "cell_type": "markdown",
   "metadata": {},
   "source": [
    "# Polymer buildup and Hydrogen production in the ISIS Moderator"
   ]
  },
  {
   "cell_type": "markdown",
   "metadata": {},
   "source": [
    "# COPY - add in the spatial stuff to this one \n",
    "\n",
    "- start off with splitting the dose rate so that the top is double the bottom - so 2/3 and 1/3 respectively\n",
    "- add in the iterative stuff once i have the data and the volumes etc confirmed\n",
    "- for the iterative stuff later, i believe everything (for now) other than dose is constant so can loop over a list of the dose values then add in other stuff like dwell time later\n",
    "\n",
    "- may be useful to delete all the basic code with the functions and import them from the other notebook (like i did on steves neutron tools) as itll save a lot of space and be less bulky\n",
    "\n"
   ]
  },
  {
   "cell_type": "markdown",
   "metadata": {},
   "source": [
    "### Radicals per Dose\n",
    "* G value in Mol/J"
   ]
  },
  {
   "cell_type": "markdown",
   "metadata": {},
   "source": [
    "\\begin{aligned}\n",
    "moles/MGy = \\frac {G_{mol/J}}{1000} \\times 1e6 \\\\ \\\\ \n",
    "radicals/MGy = moles \\times 6.023e23\n",
    "\\end{aligned}"
   ]
  },
  {
   "cell_type": "code",
   "execution_count": 73,
   "metadata": {},
   "outputs": [],
   "source": [
    "def moles_per_MGy(G_value):\n",
    "    \n",
    "    moles_per_g = G_value/1000    #since 1Gy = 1J/kg\n",
    "    moles_per_MGy = moles_per_g * 1e6 \n",
    "    \n",
    "    return(moles_per_MGy)\n"
   ]
  },
  {
   "cell_type": "code",
   "execution_count": 74,
   "metadata": {},
   "outputs": [],
   "source": [
    "def radicals_per_dose(moles):\n",
    "    \n",
    "    rads_per_dose = moles * 6.023e23\n",
    "    \n",
    "    return(rads_per_dose)"
   ]
  },
  {
   "cell_type": "code",
   "execution_count": 75,
   "metadata": {},
   "outputs": [
    {
     "name": "stdout",
     "output_type": "stream",
     "text": [
      "0.00066 mol/g\n",
      "3.97518e+20 radicals/g.MGy\n"
     ]
    }
   ],
   "source": [
    "moles = moles_per_MGy(0.66e-6)\n",
    "print (moles, 'mol/g')\n",
    "print (radicals_per_dose(moles), 'radicals/g.MGy')"
   ]
  },
  {
   "cell_type": "markdown",
   "metadata": {},
   "source": [
    "## Splitting the moderator so the top half is double the dose of the bottom\n",
    "- So top half gets 2/300 bottom gets 1/300 MGy/s\n",
    "- Dont need to iterate for this one as theres only two vals - repeat and add them together"
   ]
  },
  {
   "cell_type": "code",
   "execution_count": 76,
   "metadata": {},
   "outputs": [
    {
     "ename": "ImportError",
     "evalue": "cannot import name 'molecular_weight' from 'Polymer_Base_code' (/Users/oliviatindle/Desktop/Placement /Project/Polymer_production/Polymer_Base_code.py)",
     "output_type": "error",
     "traceback": [
      "\u001b[0;31m---------------------------------------------------------------------------\u001b[0m",
      "\u001b[0;31mImportError\u001b[0m                               Traceback (most recent call last)",
      "\u001b[0;32m<ipython-input-76-b2b0d141de53>\u001b[0m in \u001b[0;36m<module>\u001b[0;34m\u001b[0m\n\u001b[1;32m      5\u001b[0m \u001b[0;32mfrom\u001b[0m \u001b[0mPolymer_Base_code\u001b[0m \u001b[0;32mimport\u001b[0m \u001b[0mg_val_conversion\u001b[0m\u001b[0;34m\u001b[0m\u001b[0;34m\u001b[0m\u001b[0m\n\u001b[1;32m      6\u001b[0m \u001b[0;32mfrom\u001b[0m \u001b[0mPolymer_Base_code\u001b[0m \u001b[0;32mimport\u001b[0m \u001b[0mrate_of_pol_form\u001b[0m\u001b[0;34m\u001b[0m\u001b[0;34m\u001b[0m\u001b[0m\n\u001b[0;32m----> 7\u001b[0;31m \u001b[0;32mfrom\u001b[0m \u001b[0mPolymer_Base_code\u001b[0m \u001b[0;32mimport\u001b[0m \u001b[0mmolecular_weight\u001b[0m \u001b[0;31m#why wont this import but the rest will?!?\u001b[0m\u001b[0;34m\u001b[0m\u001b[0;34m\u001b[0m\u001b[0m\n\u001b[0m\u001b[1;32m      8\u001b[0m \u001b[0;34m\u001b[0m\u001b[0m\n\u001b[1;32m      9\u001b[0m \u001b[0;31m#once figured this out change the functions to include Mr_20 instead of 300\u001b[0m\u001b[0;34m\u001b[0m\u001b[0;34m\u001b[0m\u001b[0;34m\u001b[0m\u001b[0m\n",
      "\u001b[0;31mImportError\u001b[0m: cannot import name 'molecular_weight' from 'Polymer_Base_code' (/Users/oliviatindle/Desktop/Placement /Project/Polymer_production/Polymer_Base_code.py)"
     ]
    }
   ],
   "source": [
    "#importing functions to save space and repetition\n",
    "from Polymer_Base_code import vol_of_H_a\n",
    "from Polymer_Base_code import vol_of_H_b\n",
    "from Polymer_Base_code import dose_rate_conversion\n",
    "from Polymer_Base_code import g_val_conversion\n",
    "from Polymer_Base_code import rate_of_pol_form\n",
    "from Polymer_Base_code import molecular_weight #why wont this import but the rest will?!?\n",
    "\n",
    "#once figured this out change the functions to include Mr_20 instead of 300"
   ]
  },
  {
   "cell_type": "markdown",
   "metadata": {},
   "source": [
    "### Evans Method"
   ]
  },
  {
   "cell_type": "code",
   "execution_count": 77,
   "metadata": {},
   "outputs": [
    {
     "name": "stdout",
     "output_type": "stream",
     "text": [
      "top volume a = 16.95232 cm3/s\n",
      "bottom volume a = 8.47616 cm3/s\n",
      "total volume a = 25.42848 cm3/s\n"
     ]
    }
   ],
   "source": [
    "vol_top_a = vol_of_H_a (moles, 400, 2/300, 0.43)\n",
    "vol_bottom_a = vol_of_H_a (moles, 400, 1/300, 0.43)\n",
    "vol_total_a = vol_top_a + vol_bottom_a\n",
    "\n",
    "\n",
    "print('top volume a =', vol_top_a, 'cm3/s')\n",
    "print('bottom volume a =', vol_bottom_a, 'cm3/s')\n",
    "print('total volume a =', vol_total_a, 'cm3/s')"
   ]
  },
  {
   "cell_type": "markdown",
   "metadata": {},
   "source": [
    "### Uni of Missouri Method"
   ]
  },
  {
   "cell_type": "code",
   "execution_count": 78,
   "metadata": {},
   "outputs": [
    {
     "name": "stdout",
     "output_type": "stream",
     "text": [
      "top volume b = 16.715775999999998 cm3/s\n",
      "bottom volume b = 8.357887999999999 cm3/s\n",
      "total volume b = 25.073663999999997 cm3/s\n"
     ]
    }
   ],
   "source": [
    "top_dose = dose_rate_conversion(2/300, 0.1696)\n",
    "bottom_dose = dose_rate_conversion(1/300, 0.1696)\n",
    "\n",
    "new_g_val = g_val_conversion(0.66e-6)\n",
    "\n",
    "vol_top_b = vol_of_H_b(top_dose, new_g_val)\n",
    "vol_bottom_b = vol_of_H_b(bottom_dose, new_g_val)\n",
    "vol_total_b = vol_top_b + vol_bottom_b\n",
    "\n",
    "print('top volume b =', vol_top_b, 'cm3/s')\n",
    "print('bottom volume b =', vol_bottom_b, 'cm3/s')\n",
    "print('total volume b =', vol_total_b, 'cm3/s')\n"
   ]
  },
  {
   "cell_type": "markdown",
   "metadata": {},
   "source": [
    "### Polymer production rate"
   ]
  },
  {
   "cell_type": "code",
   "execution_count": 79,
   "metadata": {},
   "outputs": [
    {
     "name": "stdout",
     "output_type": "stream",
     "text": [
      "top polymer rate = 0.07462400000000001 g polymer/s\n",
      "bottom polymer rate = 0.037312000000000005 g polymer/s\n",
      "total polymer rate = 0.11193600000000001 g polymer/s\n"
     ]
    }
   ],
   "source": [
    "polymer_top = rate_of_pol_form(0.22e-6, 300, 2/300, 169.6)\n",
    "polymer_bottom = rate_of_pol_form(0.22e-6, 300, 1/300, 169.6)\n",
    "polymer_total = polymer_top + polymer_bottom\n",
    "\n",
    "print('top polymer rate =', polymer_top, 'g polymer/s')\n",
    "print('bottom polymer rate =', polymer_bottom, 'g polymer/s')\n",
    "print('total polymer rate =', polymer_total, 'g polymer/s')\n"
   ]
  },
  {
   "cell_type": "markdown",
   "metadata": {},
   "source": [
    "## Add in the code for the data here\n",
    "- this is where the iteration for the dose comes in\n",
    "- still not too sure with the dwell times as im not sure how time affects the rate of production or how to implement it"
   ]
  },
  {
   "cell_type": "markdown",
   "metadata": {},
   "source": [
    "### TS1 Decoupled Dual Foil Moderator\n",
    "- Data is in Watts not MGy/s (or is it Watts/s?) - check with Steve\n",
    "- also probably best to do it for both normal and half/half (assuming vapour only isnt relevant? or is it??)\n",
    "- put the data into an array then iterate over it and add them\n",
    "- again taking mr to be 300 - add in Mr_20 when import is fixed - then change to whatever distribution thingy we figure out "
   ]
  },
  {
   "cell_type": "markdown",
   "metadata": {},
   "source": [
    "Regions are:\n",
    "- Al can\n",
    "- Gd poison and Al support\n",
    "- Methane regions\n",
    "\n",
    "Respectively (not sure how to label each result individually)"
   ]
  },
  {
   "cell_type": "code",
   "execution_count": 80,
   "metadata": {},
   "outputs": [],
   "source": [
    "import numpy as np"
   ]
  },
  {
   "cell_type": "markdown",
   "metadata": {},
   "source": [
    "#### Function for conversion of Watts to MGy/s"
   ]
  },
  {
   "cell_type": "code",
   "execution_count": 81,
   "metadata": {},
   "outputs": [],
   "source": [
    "def watts_to_MGy_per_sec(watts):\n",
    "    \n",
    "    new_dose = watts * (1e-6/0.1696)\n",
    "    \n",
    "    return(new_dose)"
   ]
  },
  {
   "cell_type": "markdown",
   "metadata": {},
   "source": [
    "#### Normal"
   ]
  },
  {
   "cell_type": "code",
   "execution_count": 82,
   "metadata": {},
   "outputs": [
    {
     "name": "stdout",
     "output_type": "stream",
     "text": [
      "Heat load for normal operation [0.0003685141509433962, 3.125e-05, 0.0005607311320754716] MGy/s\n"
     ]
    }
   ],
   "source": [
    "heat_load_normal_watts = [62.5, 5.3, 95.1]\n",
    "heat_load_normal = []\n",
    "\n",
    "for x in heat_load_normal_watts:\n",
    "    \n",
    "    conversion = watts_to_MGy_per_sec(x)\n",
    "    heat_load_normal.append(conversion)\n",
    "\n",
    "print('Heat load for normal operation', heat_load_normal, 'MGy/s')"
   ]
  },
  {
   "cell_type": "code",
   "execution_count": 83,
   "metadata": {},
   "outputs": [
    {
     "name": "stdout",
     "output_type": "stream",
     "text": [
      "0.004125 g polymer/s\n",
      "0.0003498 g polymer/s\n",
      "0.006276599999999999 g polymer/s\n"
     ]
    }
   ],
   "source": [
    "for x in heat_load_normal:\n",
    "    \n",
    "    pol_rate_normal = rate_of_pol_form(0.22e-6, 300, x, 169.6)\n",
    "    \n",
    "    print(pol_rate_normal, 'g polymer/s')"
   ]
  },
  {
   "cell_type": "markdown",
   "metadata": {},
   "source": [
    "#### Half liquid half vapour"
   ]
  },
  {
   "cell_type": "code",
   "execution_count": 84,
   "metadata": {},
   "outputs": [
    {
     "name": "stdout",
     "output_type": "stream",
     "text": [
      "Heat load for half liquid half vapour [0.0003354952830188679, 2.1816037735849055e-05, 0.00022169811320754717] MGy/s\n"
     ]
    }
   ],
   "source": [
    "heat_load_half_watts = [56.9, 3.7, 37.6]\n",
    "heat_load_half = []\n",
    "\n",
    "for x in heat_load_half_watts:\n",
    "    \n",
    "    conversion = watts_to_MGy_per_sec(x)\n",
    "    heat_load_half.append(conversion)\n",
    "\n",
    "print('Heat load for half liquid half vapour', heat_load_half, 'MGy/s')"
   ]
  },
  {
   "cell_type": "code",
   "execution_count": 85,
   "metadata": {},
   "outputs": [
    {
     "name": "stdout",
     "output_type": "stream",
     "text": [
      "0.0037554 g polymer/s\n",
      "0.00024419999999999997 g polymer/s\n",
      "0.0024816 g polymer/s\n"
     ]
    }
   ],
   "source": [
    "for x in heat_load_half:\n",
    "    \n",
    "    pol_rate_half = rate_of_pol_form(0.22e-6, 300, x, 169.6)\n",
    "    \n",
    "    print(pol_rate_half, 'g polymer/s')"
   ]
  },
  {
   "cell_type": "markdown",
   "metadata": {},
   "source": [
    "#### Vapour only"
   ]
  },
  {
   "cell_type": "code",
   "execution_count": 86,
   "metadata": {},
   "outputs": [
    {
     "name": "stdout",
     "output_type": "stream",
     "text": [
      "Heat load for vapour only [0.00031839622641509433, 1.8278301886792454e-05, 2.358490566037736e-06] MGy/s\n"
     ]
    }
   ],
   "source": [
    "heat_load_vapour_watts = [54.0, 3.1, 0.4]\n",
    "heat_load_vapour = []\n",
    "\n",
    "for x in heat_load_vapour_watts:\n",
    "    \n",
    "    conversion = watts_to_MGy_per_sec(x)\n",
    "    heat_load_vapour.append(conversion)\n",
    "\n",
    "print('Heat load for vapour only', heat_load_vapour, 'MGy/s')"
   ]
  },
  {
   "cell_type": "code",
   "execution_count": 87,
   "metadata": {},
   "outputs": [
    {
     "name": "stdout",
     "output_type": "stream",
     "text": [
      "0.003564 g polymer/s\n",
      "0.0002046 g polymer/s\n",
      "2.64e-05 g polymer/s\n"
     ]
    }
   ],
   "source": [
    "for x in heat_load_vapour:\n",
    "    \n",
    "    pol_rate_vapour = rate_of_pol_form(0.22e-6, 300, x, 169.6)\n",
    "    \n",
    "    print(pol_rate_vapour, 'g polymer/s')"
   ]
  },
  {
   "cell_type": "markdown",
   "metadata": {},
   "source": [
    "#### Empty \n",
    "(not really sure if ive gotta do this one but ill do it for good luck anyway)"
   ]
  },
  {
   "cell_type": "code",
   "execution_count": 88,
   "metadata": {},
   "outputs": [
    {
     "name": "stdout",
     "output_type": "stream",
     "text": [
      "Heat load for empty moderator [0.0003278301886792453, 1.7099056603773582e-05, 0.0] MGy/s\n"
     ]
    }
   ],
   "source": [
    "heat_load_empty_watts = [55.6, 2.9, 0.0]\n",
    "heat_load_empty = []\n",
    "\n",
    "for x in heat_load_empty_watts:\n",
    "    \n",
    "    conversion = watts_to_MGy_per_sec(x)\n",
    "    heat_load_empty.append(conversion)\n",
    "\n",
    "print('Heat load for empty moderator', heat_load_empty, 'MGy/s')"
   ]
  },
  {
   "cell_type": "code",
   "execution_count": 89,
   "metadata": {},
   "outputs": [
    {
     "name": "stdout",
     "output_type": "stream",
     "text": [
      "0.003564 g polymer/s\n",
      "0.0002046 g polymer/s\n",
      "2.64e-05 g polymer/s\n"
     ]
    }
   ],
   "source": [
    "for x in heat_load_vapour:\n",
    "    \n",
    "    pol_rate_vapour = rate_of_pol_form(0.22e-6, 300, x, 169.6)\n",
    "    \n",
    "    print(pol_rate_vapour, 'g polymer/s')"
   ]
  },
  {
   "cell_type": "markdown",
   "metadata": {},
   "source": [
    "### TS1 Decoupled Single Foil Moderator\n",
    "- again in watts\n",
    "- only nominal config and empty data due to modelling difficulties withtemperature dependant variables and timestep\n",
    "- also includes errors (probably useful to add those in late but not too sure how yet)"
   ]
  },
  {
   "cell_type": "markdown",
   "metadata": {},
   "source": [
    "Regions are:\n",
    "- total in Al can\n",
    "- total in Al pipe\n",
    "- Gd poison and its Al support\n",
    "- Methane regions\n",
    "\n",
    "Respectively (not sure how to label each result individually)"
   ]
  },
  {
   "cell_type": "markdown",
   "metadata": {},
   "source": [
    "#### Nominal Configuration"
   ]
  },
  {
   "cell_type": "code",
   "execution_count": 90,
   "metadata": {},
   "outputs": [
    {
     "name": "stdout",
     "output_type": "stream",
     "text": [
      "Heat load for nominal configuration [0.00022346698113207545, 9.257075471698113e-06, 1.7688679245283016e-05, 0.0004156839622641509] MGy/s\n"
     ]
    }
   ],
   "source": [
    "heat_load_nominal_watts = [37.9, 1.57, 3.0, 70.5]\n",
    "heat_load_nominal = []\n",
    "\n",
    "for x in heat_load_nominal_watts:\n",
    "    \n",
    "    conversion = watts_to_MGy_per_sec(x)\n",
    "    heat_load_nominal.append(conversion)\n",
    "\n",
    "print('Heat load for nominal configuration', heat_load_nominal, 'MGy/s')"
   ]
  },
  {
   "cell_type": "code",
   "execution_count": 91,
   "metadata": {},
   "outputs": [
    {
     "name": "stdout",
     "output_type": "stream",
     "text": [
      "0.0025014 g polymer/s\n",
      "0.00010361999999999999 g polymer/s\n",
      "0.000198 g polymer/s\n",
      "0.004653 g polymer/s\n"
     ]
    }
   ],
   "source": [
    "for x in heat_load_nominal:\n",
    "    \n",
    "    pol_rate_nominal = rate_of_pol_form(0.22e-6, 300, x, 169.6)\n",
    "    \n",
    "    print(pol_rate_nominal, 'g polymer/s')"
   ]
  },
  {
   "cell_type": "markdown",
   "metadata": {},
   "source": [
    "#### Empty Moderator"
   ]
  },
  {
   "cell_type": "code",
   "execution_count": 92,
   "metadata": {},
   "outputs": [
    {
     "name": "stdout",
     "output_type": "stream",
     "text": [
      "Heat load for empty moderator [0.00022346698113207545, 9.257075471698113e-06, 1.7688679245283016e-05, 0.0004156839622641509] MGy/s\n"
     ]
    }
   ],
   "source": [
    "heat_load_empty_single_watts = [37.9, 1.57, 3.0, 70.5]\n",
    "heat_load_empty_single = []\n",
    "\n",
    "for x in heat_load_empty_single_watts:\n",
    "    \n",
    "    conversion = watts_to_MGy_per_sec(x)\n",
    "    heat_load_empty_single.append(conversion)\n",
    "\n",
    "print('Heat load for empty moderator', heat_load_empty_single, 'MGy/s')"
   ]
  },
  {
   "cell_type": "code",
   "execution_count": 93,
   "metadata": {},
   "outputs": [
    {
     "name": "stdout",
     "output_type": "stream",
     "text": [
      "0.0025014 g polymer/s\n",
      "0.00010361999999999999 g polymer/s\n",
      "0.000198 g polymer/s\n",
      "0.004653 g polymer/s\n"
     ]
    }
   ],
   "source": [
    "for x in heat_load_empty_single:\n",
    "    \n",
    "    pol_rate_empty_single = rate_of_pol_form(0.22e-6, 300, x, 169.6)\n",
    "    \n",
    "    print(pol_rate_empty_single, 'g polymer/s')"
   ]
  }
 ],
 "metadata": {
  "kernelspec": {
   "display_name": "Python 3",
   "language": "python",
   "name": "python3"
  },
  "language_info": {
   "codemirror_mode": {
    "name": "ipython",
    "version": 3
   },
   "file_extension": ".py",
   "mimetype": "text/x-python",
   "name": "python",
   "nbconvert_exporter": "python",
   "pygments_lexer": "ipython3",
   "version": "3.8.3"
  }
 },
 "nbformat": 4,
 "nbformat_minor": 4
}
