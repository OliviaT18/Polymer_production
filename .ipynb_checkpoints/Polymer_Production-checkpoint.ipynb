{
 "cells": [
  {
   "cell_type": "markdown",
   "metadata": {},
   "source": [
    "# Polymer buildup and Hydrogen production in the ISIS Moderators\n"
   ]
  },
  {
   "cell_type": "markdown",
   "metadata": {},
   "source": [
    "This notebook utilises the functions from the Polymer_Production_Functions. Here it can be seen that the heat load data for the current moderator and the new dual foil moderator has been split up into regions so that the mass of polymer can be visualised in these regions.\n",
    "Later The dwell times for the methane is also implemented."
   ]
  },
  {
   "cell_type": "markdown",
   "metadata": {},
   "source": [
    "#### Loose Plan\n",
    "Once Steves sent the heatload data for the different regions implement the following \n",
    "- Current Mod\n",
    "    - H production - only use Evans method - change function name to vol_of_H_Evans\n",
    "    - Polymer production in each region\n",
    "- New dual foil\n",
    "    - H production\n",
    "    - Polymer production in each region\n",
    "- 2 graphs/simulations w/e\n",
    "    - coloured gradient graph things like the one in the ppt but with polymer mass instead of velocity (not sure if this is python or something else but maybe python has a similar thing)"
   ]
  },
  {
   "cell_type": "code",
   "execution_count": 1,
   "metadata": {},
   "outputs": [],
   "source": [
    "import numpy as np"
   ]
  },
  {
   "cell_type": "code",
   "execution_count": 2,
   "metadata": {},
   "outputs": [
    {
     "name": "stdout",
     "output_type": "stream",
     "text": [
      "0.00066 mol/g\n",
      "3.97518e+20 radicals/g.MGy\n",
      "25.42848 cm3/s\n",
      "63684.396026914445 molecules/MeV\n",
      "1.0586432e+16 MeV/s\n",
      "25.073664 cm3/s\n",
      "280\n",
      "0.1044736 g polymer/s\n"
     ]
    }
   ],
   "source": [
    "from Polymer_Production_Functions import moles_per_MGy\n",
    "from Polymer_Production_Functions import radicals_per_dose\n",
    "from Polymer_Production_Functions import vol_of_H_a\n",
    "from Polymer_Production_Functions import vol_of_H_b\n",
    "from Polymer_Production_Functions import dose_rate_conversion\n",
    "from Polymer_Production_Functions import g_val_conversion\n",
    "from Polymer_Production_Functions import rate_of_pol_form\n",
    "from Polymer_Production_Functions import molecular_weight\n",
    "\n",
    "#Add the MGy conversion function to the functions file - remember to add it to the .py file bc thats why it didnt run\n",
    "# Make a note on the ReadMe (when i add one) that the functions had to be imported from a .py file not a notebook"
   ]
  },
  {
   "cell_type": "markdown",
   "metadata": {},
   "source": [
    "## Current Moderator"
   ]
  },
  {
   "cell_type": "markdown",
   "metadata": {},
   "source": [
    "### Hydrogen production"
   ]
  },
  {
   "cell_type": "code",
   "execution_count": null,
   "metadata": {},
   "outputs": [],
   "source": []
  },
  {
   "cell_type": "markdown",
   "metadata": {},
   "source": [
    "### Polymer Production"
   ]
  },
  {
   "cell_type": "code",
   "execution_count": null,
   "metadata": {},
   "outputs": [],
   "source": []
  },
  {
   "cell_type": "markdown",
   "metadata": {},
   "source": [
    "## New Dual Foil Moderator"
   ]
  },
  {
   "cell_type": "markdown",
   "metadata": {},
   "source": [
    "### Hydrogen Production"
   ]
  },
  {
   "cell_type": "code",
   "execution_count": null,
   "metadata": {},
   "outputs": [],
   "source": []
  },
  {
   "cell_type": "markdown",
   "metadata": {},
   "source": [
    "### Polymer Production"
   ]
  },
  {
   "cell_type": "code",
   "execution_count": null,
   "metadata": {},
   "outputs": [],
   "source": []
  },
  {
   "cell_type": "markdown",
   "metadata": {},
   "source": [
    "## Dwell Times"
   ]
  },
  {
   "cell_type": "markdown",
   "metadata": {},
   "source": [
    "Okay so above polymer production is /s per region. We (will) have the MGy/zone, from this we can get rad/g.MGy per zone (from the first function) which i think is used for the above production bc thatll give polymer production per zone. \n",
    "We also have (from the ppt) both average and maximum residence time for the full size geometry (also use the fine one). \n",
    "So i guess could do some sort of range for the RT - itd be better if we had a lower limit too rather than avg and max but then i guess could loop over the range for x increments and just times it by the polymer production? So itll give a range per zone? Maybe use the average per zone and then do some plot? Sure. Gotta make sure to compare the moderators since thats the paper results (i think)"
   ]
  },
  {
   "cell_type": "markdown",
   "metadata": {},
   "source": [
    "### Current Moderator"
   ]
  },
  {
   "cell_type": "code",
   "execution_count": null,
   "metadata": {},
   "outputs": [],
   "source": []
  },
  {
   "cell_type": "markdown",
   "metadata": {},
   "source": [
    "### New Dual Foil Moderator"
   ]
  },
  {
   "cell_type": "code",
   "execution_count": null,
   "metadata": {},
   "outputs": [],
   "source": []
  }
 ],
 "metadata": {
  "kernelspec": {
   "display_name": "Python 3",
   "language": "python",
   "name": "python3"
  },
  "language_info": {
   "codemirror_mode": {
    "name": "ipython",
    "version": 3
   },
   "file_extension": ".py",
   "mimetype": "text/x-python",
   "name": "python",
   "nbconvert_exporter": "python",
   "pygments_lexer": "ipython3",
   "version": "3.8.3"
  }
 },
 "nbformat": 4,
 "nbformat_minor": 4
}
