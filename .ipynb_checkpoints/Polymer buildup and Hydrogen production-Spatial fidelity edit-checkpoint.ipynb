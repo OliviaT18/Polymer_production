{
 "cells": [
  {
   "cell_type": "markdown",
   "metadata": {},
   "source": [
    "# Polymer buildup and Hydrogen production in the ISIS Moderator"
   ]
  },
  {
   "cell_type": "markdown",
   "metadata": {},
   "source": [
    "# COPY - add in the spatial stuff to this one \n",
    "\n",
    "- start off with splitting the dose rate so that the top is double the bottom - so 2/3 and 1/3 respectively\n",
    "- add in the iterative stuff once i have the data and the volumes etc confirmed\n",
    "- for the iterative stuff later, i believe everything (for now) other than dose is constant so can loop over a list of the dose values then add in other stuff like dwell time later\n",
    "\n",
    "- may be useful to delete all the basic code with the functions and import them from the other notebook (like i did on steves neutron tools) as itll save a lot of space and be less bulky\n",
    "\n"
   ]
  },
  {
   "cell_type": "markdown",
   "metadata": {},
   "source": [
    "### Radicals per Dose\n",
    "* G value in Mol/J"
   ]
  },
  {
   "cell_type": "markdown",
   "metadata": {},
   "source": [
    "\\begin{aligned}\n",
    "moles/MGy = \\frac {G_{mol/J}}{1000} \\times 1e6 \\\\ \\\\ \n",
    "radicals/MGy = moles \\times 6.023e23\n",
    "\\end{aligned}"
   ]
  },
  {
   "cell_type": "code",
   "execution_count": 1,
   "metadata": {},
   "outputs": [],
   "source": [
    "def moles_per_MGy(G_value):\n",
    "    \n",
    "    moles_per_g = G_value/1000    #since 1Gy = 1J/kg\n",
    "    moles_per_MGy = moles_per_g * 1e6 \n",
    "    \n",
    "    return(moles_per_MGy)\n"
   ]
  },
  {
   "cell_type": "code",
   "execution_count": 2,
   "metadata": {},
   "outputs": [],
   "source": [
    "def radicals_per_dose(moles):\n",
    "    \n",
    "    rads_per_dose = moles * 6.023e23\n",
    "    \n",
    "    return(rads_per_dose)"
   ]
  },
  {
   "cell_type": "code",
   "execution_count": 3,
   "metadata": {},
   "outputs": [
    {
     "name": "stdout",
     "output_type": "stream",
     "text": [
      "0.00066 mol/g\n",
      "3.97518e+20 radicals/g.MGy\n"
     ]
    }
   ],
   "source": [
    "moles = moles_per_MGy(0.66e-6)\n",
    "print (moles, 'mol/g')\n",
    "print (radicals_per_dose(moles), 'radicals/g.MGy')"
   ]
  },
  {
   "cell_type": "markdown",
   "metadata": {},
   "source": [
    "### Volume of Hydrogen gas produced"
   ]
  },
  {
   "cell_type": "markdown",
   "metadata": {},
   "source": [
    "#### Evans paper method\n",
    "- vols in cm3\n",
    "- dose in MGy/s"
   ]
  },
  {
   "cell_type": "markdown",
   "metadata": {},
   "source": [
    "\\begin{aligned} \n",
    "Vol_{STP} = mol \\times 2.24e4 \\\\ \\\\\n",
    "Vol_H = Vol_{STP} \\times \\ Vol_{CH4} \\times SG \\times D\n",
    "\\end{aligned}"
   ]
  },
  {
   "cell_type": "code",
   "execution_count": 4,
   "metadata": {},
   "outputs": [],
   "source": [
    "def vol_of_H_a (moles, CH4_vol, dose, SG):\n",
    "    \n",
    "    STP_vol = moles * 2.24e4\n",
    "    \n",
    "    h_produced = STP_vol * CH4_vol * SG * dose\n",
    "    \n",
    "    return(h_produced)"
   ]
  },
  {
   "cell_type": "code",
   "execution_count": 14,
   "metadata": {},
   "outputs": [
    {
     "name": "stdout",
     "output_type": "stream",
     "text": [
      "25.42848 cm3/s\n"
     ]
    }
   ],
   "source": [
    "print(vol_of_H_a(moles, 400, 0.01, 0.43), 'cm3/s')"
   ]
  },
  {
   "cell_type": "markdown",
   "metadata": {},
   "source": [
    "#### This is a different method from the University of Missouri paper\n",
    "* g-value in the paper is a primary g value so the value at the inital spur not the whole reaction (i think) - due to this i didnt use the g-value used in the paper i converted the g value from the one used in the Evans paper which i believe gives the Hydrogen production across the whole reaction not just the initial spur.\n",
    "* G value is worked out by converting mol/J to molecules/MeV\n",
    "* Dose is in MeV/s - also converted from MGy/s\n",
    "\n",
    "Nrc.gov. 2021. Hydrogen Gas Generation Analysis. [online] Available at: <https://www.nrc.gov/docs/ML1535/ML15351A331.pdf> [Accessed 15 March 2021]."
   ]
  },
  {
   "cell_type": "markdown",
   "metadata": {},
   "source": [
    "\\begin{aligned} \n",
    "Mass_{CH4} = Vol_{CH4} \\times \\rho \\\\ \\\\\n",
    "G_{Molecules/MeV} = G_{mol/J} \\times \\frac {6.023e23}{6.242e12} \\\\ \\\\\n",
    "D_{MeV/s} = D_{MGy/s} \\times Mass_{CH4} \\times 6.242e18 \\\\ \\\\\n",
    "Vol_H = \\frac {D_{MeV/s} \\times G_{Molecules/MeV} \\times 2.24e4}{6.023e23}\n",
    "\\end{aligned}\n"
   ]
  },
  {
   "cell_type": "code",
   "execution_count": 6,
   "metadata": {},
   "outputs": [],
   "source": [
    "def g_val_conversion(G_value):\n",
    "    \n",
    "    new_G_val = G_value * (6.023e23/6.242e12)\n",
    "    \n",
    "    return(new_G_val)\n",
    "    "
   ]
  },
  {
   "cell_type": "code",
   "execution_count": 7,
   "metadata": {},
   "outputs": [
    {
     "name": "stdout",
     "output_type": "stream",
     "text": [
      "63684.396026914445 molecules/MeV\n"
     ]
    }
   ],
   "source": [
    "new_g_val = g_val_conversion(0.66e-6)\n",
    "print(new_g_val, 'molecules/MeV')"
   ]
  },
  {
   "cell_type": "code",
   "execution_count": 8,
   "metadata": {},
   "outputs": [],
   "source": [
    "def dose_rate_conversion(dose, mass_CH4):\n",
    "    \n",
    "    new_dose_rate = dose * mass_CH4 * 6.242e18\n",
    "    \n",
    "    return(new_dose_rate)"
   ]
  },
  {
   "cell_type": "code",
   "execution_count": 9,
   "metadata": {},
   "outputs": [
    {
     "name": "stdout",
     "output_type": "stream",
     "text": [
      "1.0586432e+16 MeV/s\n"
     ]
    }
   ],
   "source": [
    "new_dose_rate = dose_rate_conversion(0.01, 0.1696)\n",
    "print(new_dose_rate, 'MeV/s')"
   ]
  },
  {
   "cell_type": "code",
   "execution_count": 10,
   "metadata": {},
   "outputs": [],
   "source": [
    "def vol_of_H_b(new_dose, new_g_value):\n",
    "    \n",
    "    h_production = (new_dose * new_g_value * 2.24e4)/ 6.023e23\n",
    "    \n",
    "    return(h_production)"
   ]
  },
  {
   "cell_type": "code",
   "execution_count": 11,
   "metadata": {},
   "outputs": [
    {
     "name": "stdout",
     "output_type": "stream",
     "text": [
      "25.073664 cm3/s\n"
     ]
    }
   ],
   "source": [
    "print(vol_of_H_b(new_dose_rate, new_g_val), 'cm3/s')"
   ]
  },
  {
   "cell_type": "markdown",
   "metadata": {},
   "source": [
    "### Rate of polymer formation\n",
    "* assuming unit density\n",
    "* dose in MGy/s\n",
    "* mr is molecular weight\n",
    "* polymer (-CH2-)n - n value of polymer is difficult to quantify but thought to be no greater than 20 in the case of the methane moderator"
   ]
  },
  {
   "cell_type": "markdown",
   "metadata": {},
   "source": [
    "\\begin{aligned}\n",
    "polymer/MGy = moles/MGy \\times Mr \\\\ \\\\ \n",
    "polymer/s = polymer/MGy \\times D \\times Mass_{CH4}\n",
    "\\end{aligned}\n"
   ]
  },
  {
   "cell_type": "code",
   "execution_count": 12,
   "metadata": {},
   "outputs": [],
   "source": [
    "def rate_of_pol_form(G_value, mr, dose, mass_CH4):\n",
    "    \n",
    "    polymer_form_per_dose = moles_per_MGy(G_value) * mr\n",
    "    \n",
    "    polymer_per_sec = polymer_form_per_dose * dose * mass_CH4\n",
    "    \n",
    "    return(polymer_per_sec)    "
   ]
  },
  {
   "cell_type": "code",
   "execution_count": 13,
   "metadata": {},
   "outputs": [
    {
     "name": "stdout",
     "output_type": "stream",
     "text": [
      "0.111936 g polymer/s\n"
     ]
    }
   ],
   "source": [
    "print(rate_of_pol_form(0.22e-6, 300, 0.01, 169.6), 'g polymer/s')"
   ]
  },
  {
   "cell_type": "markdown",
   "metadata": {},
   "source": [
    "## Top half of moderator double the temp of the bottom half\n",
    "- So top half gets 2/300 bottom gets 1/300 MGy/s\n",
    "- Dont need to iterate for this one as theres only two vals - repeat and add them together"
   ]
  },
  {
   "cell_type": "markdown",
   "metadata": {},
   "source": [
    "### Evans Method"
   ]
  },
  {
   "cell_type": "code",
   "execution_count": 18,
   "metadata": {},
   "outputs": [
    {
     "name": "stdout",
     "output_type": "stream",
     "text": [
      "top volume a = 16.95232 cm3/s\n",
      "bottom volume a = 8.47616 cm3/s\n",
      "total volume a = 25.42848 cm3/s\n"
     ]
    }
   ],
   "source": [
    "vol_top_a = vol_of_H_a (moles, 400, 2/300, 0.43)\n",
    "vol_bottom_a = vol_of_H_a (moles, 400, 1/300, 0.43)\n",
    "vol_total_a = vol_top_a + vol_bottom_a\n",
    "\n",
    "\n",
    "print('top volume a =', vol_top_a, 'cm3/s')\n",
    "print('bottom volume a =', vol_bottom_a, 'cm3/s')\n",
    "print('total volume a =', vol_total_a, 'cm3/s')\n",
    "\n",
    "\n",
    "#i know this sounds silly and i assume its fine because it makes sense but they add up to the total volume from\n",
    "#the first function - this is right right??"
   ]
  },
  {
   "cell_type": "markdown",
   "metadata": {},
   "source": [
    "### Uni of Missouri Method"
   ]
  },
  {
   "cell_type": "code",
   "execution_count": 20,
   "metadata": {},
   "outputs": [
    {
     "name": "stdout",
     "output_type": "stream",
     "text": [
      "top volume b = 16.715775999999998 cm3/s\n",
      "bottom volume b = 8.357887999999999 cm3/s\n",
      "total volume b = 25.073663999999997 cm3/s\n"
     ]
    }
   ],
   "source": [
    "top_dose = dose_rate_conversion(2/300, 0.1696)\n",
    "bottom_dose = dose_rate_conversion(1/300, 0.1696)\n",
    "\n",
    "vol_top_b = vol_of_H_b(top_dose, new_g_val)\n",
    "vol_bottom_b = vol_of_H_b(bottom_dose, new_g_val)\n",
    "vol_total_b = vol_top_b + vol_bottom_b\n",
    "\n",
    "print('top volume b =', vol_top_b, 'cm3/s')\n",
    "print('bottom volume b =', vol_bottom_b, 'cm3/s')\n",
    "print('total volume b =', vol_total_b, 'cm3/s')\n"
   ]
  },
  {
   "cell_type": "markdown",
   "metadata": {},
   "source": [
    "### Polymer production rate"
   ]
  },
  {
   "cell_type": "code",
   "execution_count": 25,
   "metadata": {},
   "outputs": [
    {
     "name": "stdout",
     "output_type": "stream",
     "text": [
      "top polymer rate = 0.07462400000000001 g polymer/s\n",
      "bottom polymer rate = 0.037312000000000005 g polymer/s\n",
      "total polymer rate = 0.11193600000000001 g polymer/s\n"
     ]
    }
   ],
   "source": [
    "polymer_top = rate_of_pol_form(0.22e-6, 300, 2/300, 169.6)\n",
    "polymer_bottom = rate_of_pol_form(0.22e-6, 300, 1/300, 169.6)\n",
    "polymer_total = polymer_top + polymer_bottom\n",
    "\n",
    "print('top polymer rate =', polymer_top, 'g polymer/s')\n",
    "print('bottom polymer rate =', polymer_bottom, 'g polymer/s')\n",
    "print('total polymer rate =', polymer_total, 'g polymer/s')\n"
   ]
  },
  {
   "cell_type": "code",
   "execution_count": null,
   "metadata": {},
   "outputs": [],
   "source": []
  }
 ],
 "metadata": {
  "kernelspec": {
   "display_name": "Python 3",
   "language": "python",
   "name": "python3"
  },
  "language_info": {
   "codemirror_mode": {
    "name": "ipython",
    "version": 3
   },
   "file_extension": ".py",
   "mimetype": "text/x-python",
   "name": "python",
   "nbconvert_exporter": "python",
   "pygments_lexer": "ipython3",
   "version": "3.8.3"
  }
 },
 "nbformat": 4,
 "nbformat_minor": 4
}
