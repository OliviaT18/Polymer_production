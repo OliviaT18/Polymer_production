{
 "cells": [
  {
   "cell_type": "markdown",
   "metadata": {},
   "source": [
    "# Polymer buildup and Hydrogen production in the ISIS Moderator"
   ]
  },
  {
   "cell_type": "markdown",
   "metadata": {},
   "source": [
    "# COPY - add in the spatial stuff to this one - no idea how yet"
   ]
  },
  {
   "cell_type": "markdown",
   "metadata": {},
   "source": [
    "### Radicals per Dose\n",
    "* G value in Mol/J"
   ]
  },
  {
   "cell_type": "markdown",
   "metadata": {},
   "source": [
    "\\begin{aligned}\n",
    "moles/MGy = \\frac {G_{mol/J}}{1000} \\times 1e6 \\\\ \\\\ \n",
    "radicals/MGy = moles \\times 6.023e23\n",
    "\\end{aligned}"
   ]
  },
  {
   "cell_type": "code",
   "execution_count": 14,
   "metadata": {},
   "outputs": [],
   "source": [
    "def moles_per_MGy(G_value):\n",
    "    \n",
    "    moles_per_g = G_value/1000    #since 1Gy = 1J/kg\n",
    "    moles_per_MGy = moles_per_g * 1e6 \n",
    "    \n",
    "    return(moles_per_MGy)\n"
   ]
  },
  {
   "cell_type": "code",
   "execution_count": 15,
   "metadata": {},
   "outputs": [],
   "source": [
    "def radicals_per_dose(moles):\n",
    "    \n",
    "    rads_per_dose = moles * 6.023e23\n",
    "    \n",
    "    return(rads_per_dose)"
   ]
  },
  {
   "cell_type": "code",
   "execution_count": 16,
   "metadata": {},
   "outputs": [
    {
     "name": "stdout",
     "output_type": "stream",
     "text": [
      "0.00066 mol/g\n",
      "3.97518e+20 radicals/g.MGy\n"
     ]
    }
   ],
   "source": [
    "moles = moles_per_MGy(0.66e-6)\n",
    "print (moles, 'mol/g')\n",
    "print (radicals_per_dose(moles), 'radicals/g.MGy')"
   ]
  },
  {
   "cell_type": "markdown",
   "metadata": {},
   "source": [
    "### Volume of Hydrogen gas produced"
   ]
  },
  {
   "cell_type": "markdown",
   "metadata": {},
   "source": [
    "#### Evans paper method\n",
    "- vols in cm3\n",
    "- dose in MGy/s"
   ]
  },
  {
   "cell_type": "markdown",
   "metadata": {},
   "source": [
    "\\begin{aligned} \n",
    "Vol_{STP} = mol \\times 2.24e4 \\\\ \\\\\n",
    "Vol_H = Vol_{STP} \\times \\ Vol_{CH4} \\times SG \\times D\n",
    "\\end{aligned}"
   ]
  },
  {
   "cell_type": "code",
   "execution_count": 17,
   "metadata": {},
   "outputs": [],
   "source": [
    "def vol_of_H_a (moles, CH4_vol, dose, SG):\n",
    "    \n",
    "    STP_vol = moles * 2.24e4\n",
    "    \n",
    "    h_produced = STP_vol * CH4_vol * SG * dose\n",
    "    \n",
    "    return(h_produced)"
   ]
  },
  {
   "cell_type": "code",
   "execution_count": 18,
   "metadata": {},
   "outputs": [
    {
     "ename": "NameError",
     "evalue": "name 'mol' is not defined",
     "output_type": "error",
     "traceback": [
      "\u001b[0;31m---------------------------------------------------------------------------\u001b[0m",
      "\u001b[0;31mNameError\u001b[0m                                 Traceback (most recent call last)",
      "\u001b[0;32m<ipython-input-18-15d5d0b3aa27>\u001b[0m in \u001b[0;36m<module>\u001b[0;34m\u001b[0m\n\u001b[0;32m----> 1\u001b[0;31m \u001b[0mprint\u001b[0m\u001b[0;34m(\u001b[0m\u001b[0mvol_of_H_a\u001b[0m\u001b[0;34m(\u001b[0m\u001b[0mmol\u001b[0m\u001b[0;34m,\u001b[0m \u001b[0;36m400\u001b[0m\u001b[0;34m,\u001b[0m \u001b[0;36m0.01\u001b[0m\u001b[0;34m,\u001b[0m \u001b[0;36m0.43\u001b[0m\u001b[0;34m)\u001b[0m\u001b[0;34m,\u001b[0m \u001b[0;34m'cm3/s'\u001b[0m\u001b[0;34m)\u001b[0m\u001b[0;34m\u001b[0m\u001b[0;34m\u001b[0m\u001b[0m\n\u001b[0m",
      "\u001b[0;31mNameError\u001b[0m: name 'mol' is not defined"
     ]
    }
   ],
   "source": [
    "print(vol_of_H_a(mol, 400, 0.01, 0.43), 'cm3/s')"
   ]
  },
  {
   "cell_type": "markdown",
   "metadata": {},
   "source": [
    "#### This is a different method from the University of Missouri paper\n",
    "* g-value in the paper is a primary g value so the value at the inital spur not the whole reaction (i think) - due to this i didnt use the g-value used in the paper i converted the g value from the one used in the Evans paper which i believe gives the Hydrogen production across the whole reaction not just the initial spur.\n",
    "* G value is worked out by converting mol/J to molecules/MeV\n",
    "* Dose is in MeV/s - also converted from MGy/s\n",
    "\n",
    "Nrc.gov. 2021. Hydrogen Gas Generation Analysis. [online] Available at: <https://www.nrc.gov/docs/ML1535/ML15351A331.pdf> [Accessed 15 March 2021]."
   ]
  },
  {
   "cell_type": "markdown",
   "metadata": {},
   "source": [
    "\\begin{aligned} \n",
    "Mass_{CH4} = Vol_{CH4} \\times \\rho \\\\ \\\\\n",
    "G_{Molecules/MeV} = G_{mol/J} \\times \\frac {6.023e23}{6.242e12} \\\\ \\\\\n",
    "D_{MeV/s} = D_{MGy/s} \\times Mass_{CH4} \\times 6.242e18 \\\\ \\\\\n",
    "Vol_H = \\frac {D_{MeV/s} \\times G_{Molecules/MeV} \\times 2.24e4}{6.023e23}\n",
    "\\end{aligned}\n"
   ]
  },
  {
   "cell_type": "code",
   "execution_count": 19,
   "metadata": {},
   "outputs": [],
   "source": [
    "def g_val_conversion(G_value):\n",
    "    \n",
    "    new_G_val = G_value * (6.023e23/6.242e12)\n",
    "    \n",
    "    return(new_G_val)\n",
    "    "
   ]
  },
  {
   "cell_type": "code",
   "execution_count": 20,
   "metadata": {},
   "outputs": [
    {
     "name": "stdout",
     "output_type": "stream",
     "text": [
      "63684.396026914445 molecules/MeV\n"
     ]
    }
   ],
   "source": [
    "new_g_val = g_val_conversion(0.66e-6)\n",
    "print(new_g_val, 'molecules/MeV')"
   ]
  },
  {
   "cell_type": "code",
   "execution_count": 21,
   "metadata": {},
   "outputs": [],
   "source": [
    "def dose_rate_conversion(dose, mass_CH4):\n",
    "    \n",
    "    new_dose_rate = dose * mass_CH4 * 6.242e18\n",
    "    \n",
    "    return(new_dose_rate)"
   ]
  },
  {
   "cell_type": "code",
   "execution_count": 22,
   "metadata": {},
   "outputs": [
    {
     "name": "stdout",
     "output_type": "stream",
     "text": [
      "1.0586432e+16 MeV/s\n"
     ]
    }
   ],
   "source": [
    "new_dose_rate = dose_rate_conversion(0.01, 0.1696)\n",
    "print(new_dose_rate, 'MeV/s')"
   ]
  },
  {
   "cell_type": "code",
   "execution_count": 23,
   "metadata": {},
   "outputs": [],
   "source": [
    "def vol_of_H_b(new_dose, new_g_value):\n",
    "    \n",
    "    h_production = (new_dose * new_g_value * 2.24e4)/ 6.023e23\n",
    "    \n",
    "    return(h_production)"
   ]
  },
  {
   "cell_type": "code",
   "execution_count": 24,
   "metadata": {},
   "outputs": [
    {
     "name": "stdout",
     "output_type": "stream",
     "text": [
      "25.073664 cm3/s\n"
     ]
    }
   ],
   "source": [
    "print(vol_of_H_b(new_dose_rate, new_g_val), 'cm3/s')"
   ]
  },
  {
   "cell_type": "markdown",
   "metadata": {},
   "source": [
    "### Rate of polymer formation\n",
    "* assuming unit density\n",
    "* dose in MGy/s\n",
    "* mr is molecular weight\n",
    "* polymer (-CH2-)n - n value of polymer is difficult to quantify but thought to be no greater than 20 in the case of the methane moderator"
   ]
  },
  {
   "cell_type": "markdown",
   "metadata": {},
   "source": [
    "\\begin{aligned}\n",
    "polymer/MGy = moles/MGy \\times Mr \\\\ \\\\ \n",
    "polymer/s = polymer/MGy \\times D \\times Mass_{CH4}\n",
    "\\end{aligned}\n"
   ]
  },
  {
   "cell_type": "code",
   "execution_count": 25,
   "metadata": {},
   "outputs": [],
   "source": [
    "def rate_of_pol_form(G_value, mr, dose, mass_CH4):\n",
    "    \n",
    "    polymer_form_per_dose = moles_per_MGy(G_value) * mr\n",
    "    \n",
    "    polymer_per_sec = polymer_form_per_dose * dose * mass_CH4\n",
    "    \n",
    "    return(polymer_per_sec)    "
   ]
  },
  {
   "cell_type": "code",
   "execution_count": 26,
   "metadata": {},
   "outputs": [
    {
     "name": "stdout",
     "output_type": "stream",
     "text": [
      "0.111936 g polymer/s\n"
     ]
    }
   ],
   "source": [
    "print(rate_of_pol_form(0.22e-6, 300, 0.01, 169.6), 'g polymer/s')"
   ]
  }
 ],
 "metadata": {
  "kernelspec": {
   "display_name": "Python 3",
   "language": "python",
   "name": "python3"
  },
  "language_info": {
   "codemirror_mode": {
    "name": "ipython",
    "version": 3
   },
   "file_extension": ".py",
   "mimetype": "text/x-python",
   "name": "python",
   "nbconvert_exporter": "python",
   "pygments_lexer": "ipython3",
   "version": "3.8.3"
  }
 },
 "nbformat": 4,
 "nbformat_minor": 4
}
