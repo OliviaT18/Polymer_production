{
 "cells": [
  {
   "cell_type": "markdown",
   "metadata": {},
   "source": [
    "# Polymer buildup and Hydrogen production in the ISIS Moderator\n"
   ]
  },
  {
   "cell_type": "markdown",
   "metadata": {},
   "source": [
    "This notebook utilises the functions from the Polymer_Production_Functions. Here it can be seen that the heat load data for the current moderator and the new dual foil moderator has been split up into regions so that the mass of polymer can be visualised in these regions.\n",
    "Later The dwell times for the methane is also implemented."
   ]
  },
  {
   "cell_type": "markdown",
   "metadata": {},
   "source": [
    "#### Loose Plan\n",
    "Once Steves sent the heatload data for the different regions implement the following \n",
    "- Current Mod\n",
    "    - H production\n",
    "    - Polymer production in each region\n",
    "- New dual foil\n",
    "    - H production\n",
    "    - Polymer production in each region\n",
    "- 2 graphs/simulations w/e\n",
    "    - coloured gradient graph things like the one in the ppt but with polymer mass instead of velocity (not sure if this is python or something else but maybe python has a similar thing)"
   ]
  },
  {
   "cell_type": "code",
   "execution_count": 1,
   "metadata": {},
   "outputs": [],
   "source": [
    "import numpy as np"
   ]
  },
  {
   "cell_type": "code",
   "execution_count": null,
   "metadata": {},
   "outputs": [],
   "source": [
    "from Polymer_Production_Functions import vol_of_H_a\n",
    "from Polymer_Production_Functions import vol_of_H_b\n",
    "from Polymer_Production_Functions import dose_rate_conversion\n",
    "from Polymer_Production_Functions import g_val_conversion\n",
    "from Polymer_Production_Functions import rate_of_pol_form\n",
    "from Polymer_Production_Functions import molecular_weight"
   ]
  }
 ],
 "metadata": {
  "kernelspec": {
   "display_name": "Python 3",
   "language": "python",
   "name": "python3"
  },
  "language_info": {
   "codemirror_mode": {
    "name": "ipython",
    "version": 3
   },
   "file_extension": ".py",
   "mimetype": "text/x-python",
   "name": "python",
   "nbconvert_exporter": "python",
   "pygments_lexer": "ipython3",
   "version": "3.8.3"
  }
 },
 "nbformat": 4,
 "nbformat_minor": 4
}
