{
 "cells": [
  {
   "cell_type": "markdown",
   "metadata": {},
   "source": [
    "# Polymer buildup and Hydrogen production in the ISIS Moderator"
   ]
  },
  {
   "cell_type": "markdown",
   "metadata": {},
   "source": [
    "The majority of the maths for this base code was taken from a paper by David Evans discussing the radiation damage effects in the liquid methane in the ISIS moderator and the radiation chemistry that accompanies it. \n",
    "As quoted in his paper \"It would seem most probable that the atomic hydrogen produced from the irradiation of methane, will react (by hydrogen abstraction) to produce molecular hydrogen and a di-radical:\" \"the polymer that is formed in thr moderator circuit, following bombardment withneutrons, results from a dimerization reaction of the methylene di-radical (*C*H2)\"\n",
    "These mechanisms outlined are what likely causes the polymer 'sludge' to build up in the moderator. The following code outlines the maths for the three key areas:\n",
    "- Radicals per dose rate\n",
    "- Volume of Hydrogen production\n",
    "- Rate of polymer production\n",
    "\n",
    "Evans, D., 1995. Irradiation effects in liquid methane used as a neutron moderator. Cryogenics, 35(11), pp.763-766."
   ]
  },
  {
   "cell_type": "markdown",
   "metadata": {},
   "source": [
    "### Radicals per Dose\n",
    "* G value in Mol/J"
   ]
  },
  {
   "cell_type": "markdown",
   "metadata": {},
   "source": [
    "\\begin{aligned}\n",
    "moles/MGy = \\frac {G_{mol/J}}{1000} \\times 1e6 \\\\ \\\\ \n",
    "radicals/MGy = moles \\times 6.023e23\n",
    "\\end{aligned}"
   ]
  },
  {
   "cell_type": "code",
   "execution_count": 5,
   "metadata": {},
   "outputs": [],
   "source": [
    "def moles_per_MGy(G_value):\n",
    "    \n",
    "    moles_per_g = G_value/1000    #since 1Gy = 1J/kg\n",
    "    moles_per_MGy = moles_per_g * 1e6 \n",
    "    \n",
    "    return(moles_per_MGy)\n"
   ]
  },
  {
   "cell_type": "code",
   "execution_count": 6,
   "metadata": {},
   "outputs": [],
   "source": [
    "def radicals_per_dose(moles):\n",
    "    \n",
    "    rads_per_dose = moles * 6.023e23\n",
    "    \n",
    "    return(rads_per_dose)"
   ]
  },
  {
   "cell_type": "code",
   "execution_count": 7,
   "metadata": {},
   "outputs": [
    {
     "name": "stdout",
     "output_type": "stream",
     "text": [
      "0.00066 mol/g\n",
      "3.97518e+20 radicals/g.MGy\n"
     ]
    }
   ],
   "source": [
    "moles = moles_per_MGy(0.66e-6)\n",
    "\n",
    "print (moles, 'mol/g')\n",
    "print (radicals_per_dose(moles), 'radicals/g.MGy')"
   ]
  },
  {
   "cell_type": "markdown",
   "metadata": {},
   "source": [
    "### Volume of Hydrogen gas produced"
   ]
  },
  {
   "cell_type": "markdown",
   "metadata": {},
   "source": [
    "#### Evans paper method\n",
    "- vols in cm3\n",
    "- dose in MGy/s"
   ]
  },
  {
   "cell_type": "markdown",
   "metadata": {},
   "source": [
    "\\begin{aligned} \n",
    "Vol_{STP} = mol \\times 2.24e4 \\\\ \\\\\n",
    "Vol_H = Vol_{STP} \\times \\ Vol_{CH4} \\times SG \\times D\n",
    "\\end{aligned}"
   ]
  },
  {
   "cell_type": "code",
   "execution_count": 8,
   "metadata": {},
   "outputs": [],
   "source": [
    "def vol_of_H_a (moles, CH4_vol, dose, SG):\n",
    "    \n",
    "    STP_vol = moles * 2.24e4\n",
    "    \n",
    "    h_produced = STP_vol * CH4_vol * SG * dose\n",
    "    \n",
    "    return(h_produced)"
   ]
  },
  {
   "cell_type": "code",
   "execution_count": 9,
   "metadata": {},
   "outputs": [
    {
     "name": "stdout",
     "output_type": "stream",
     "text": [
      "25.42848 cm3/s\n"
     ]
    }
   ],
   "source": [
    "print(vol_of_H_a(moles, 400, 0.01, 0.43), 'cm3/s')"
   ]
  },
  {
   "cell_type": "markdown",
   "metadata": {},
   "source": [
    "#### This is a different method from the University of Missouri paper\n",
    "* g-value in the paper is a primary g value so the value at the inital spur not the whole reaction (i think) - due to this i didnt use the g-value used in the paper i converted the g value from the one used in the Evans paper which i believe gives the Hydrogen production across the whole reaction not just the initial spur.\n",
    "* G value is worked out by converting mol/J to molecules/MeV\n",
    "* Dose is in MeV/s - also converted from MGy/s\n",
    "\n",
    "Nrc.gov. 2021. Hydrogen Gas Generation Analysis. [online] Available at: <https://www.nrc.gov/docs/ML1535/ML15351A331.pdf> [Accessed 15 March 2021]."
   ]
  },
  {
   "cell_type": "markdown",
   "metadata": {},
   "source": [
    "\\begin{aligned} \n",
    "Mass_{CH4} = Vol_{CH4} \\times \\rho \\\\ \\\\\n",
    "G_{Molecules/MeV} = G_{mol/J} \\times \\frac {6.023e23}{6.242e12} \\\\ \\\\\n",
    "D_{MeV/s} = D_{MGy/s} \\times Mass_{CH4} \\times 6.242e18 \\\\ \\\\\n",
    "Vol_H = \\frac {D_{MeV/s} \\times G_{Molecules/MeV} \\times 2.24e4}{6.023e23}\n",
    "\\end{aligned}\n"
   ]
  },
  {
   "cell_type": "code",
   "execution_count": 10,
   "metadata": {},
   "outputs": [],
   "source": [
    "def g_val_conversion(G_value):\n",
    "    \n",
    "    new_G_val = G_value * (6.023e23/6.242e12)\n",
    "    \n",
    "    return(new_G_val)\n",
    "    "
   ]
  },
  {
   "cell_type": "code",
   "execution_count": 11,
   "metadata": {},
   "outputs": [
    {
     "name": "stdout",
     "output_type": "stream",
     "text": [
      "63684.396026914445 molecules/MeV\n"
     ]
    }
   ],
   "source": [
    "new_g_val = g_val_conversion(0.66e-6)\n",
    "print(new_g_val, 'molecules/MeV')"
   ]
  },
  {
   "cell_type": "code",
   "execution_count": 12,
   "metadata": {},
   "outputs": [],
   "source": [
    "def dose_rate_conversion(dose, mass_CH4):\n",
    "    \n",
    "    new_dose_rate = dose * mass_CH4 * 6.242e18\n",
    "    \n",
    "    return(new_dose_rate)"
   ]
  },
  {
   "cell_type": "code",
   "execution_count": 13,
   "metadata": {},
   "outputs": [
    {
     "name": "stdout",
     "output_type": "stream",
     "text": [
      "1.0586432e+16 MeV/s\n"
     ]
    }
   ],
   "source": [
    "new_dose_rate = dose_rate_conversion(0.01, 0.1696)\n",
    "print(new_dose_rate, 'MeV/s')"
   ]
  },
  {
   "cell_type": "code",
   "execution_count": 14,
   "metadata": {},
   "outputs": [],
   "source": [
    "def vol_of_H_b(new_dose, new_g_value):\n",
    "    \n",
    "    h_production = (new_dose * new_g_value * 2.24e4)/ 6.023e23\n",
    "    \n",
    "    return(h_production)"
   ]
  },
  {
   "cell_type": "code",
   "execution_count": 15,
   "metadata": {},
   "outputs": [
    {
     "name": "stdout",
     "output_type": "stream",
     "text": [
      "25.073664 cm3/s\n"
     ]
    }
   ],
   "source": [
    "print(vol_of_H_b(new_dose_rate, new_g_val), 'cm3/s')"
   ]
  },
  {
   "cell_type": "markdown",
   "metadata": {},
   "source": [
    "### Molecular weight of polymer\n",
    "* polymer (-CH2-)n - n value of polymer is difficult to quantify but thought to be no greater than 20 in the case of the methane moderator\n",
    "* assumption in the Evans paper that the max chain length of 20 is all that is formed so the 0.11g/s is the absolute maximum - so there might be x amount of ethane x amount of butane etc etc, need to account for this - however the equation doesnt take into account the mass of each polymer chain only the Mr so im not sure\n",
    "* the g value doesnt change though just the mr - this is what Steve was talking about i think - so maybe do all of the mrs from n=1 - 20 (think the Mr here is a bit off though as doesnt account for end CH3s), then do you add them up?? what would this actually mean?? - i think this maths is assuming that every polymer formed is the same chain length which is not correct (i dont think) so wed need to split the maths to isolate an amount of polymer so we can take into account the distribution or something along those line (idk how)\n",
    "* need to look into which chain lengths are most probable and what the distribution of them would be "
   ]
  },
  {
   "cell_type": "code",
   "execution_count": 16,
   "metadata": {},
   "outputs": [],
   "source": [
    "def molecular_weight(n):\n",
    "    \n",
    "    mr = (12 + 2) * n \n",
    "    \n",
    "    return (mr)"
   ]
  },
  {
   "cell_type": "code",
   "execution_count": 17,
   "metadata": {},
   "outputs": [
    {
     "name": "stdout",
     "output_type": "stream",
     "text": [
      "280\n"
     ]
    }
   ],
   "source": [
    "Mr_20 = molecular_weight(20)\n",
    "print(Mr_20)\n",
    "\n",
    "#why in the paper is this taken as approx 300? Also this is not accounting for CH3 on the end just the central CH2s\n",
    "# if taking in to account the end C having 3 Hs the Mr is still only 282 not 300 - seems a bit far to round"
   ]
  },
  {
   "cell_type": "markdown",
   "metadata": {},
   "source": [
    "### Rate of polymer formation\n",
    "* assuming unit density\n",
    "* dose in MGy/s\n",
    "* mr is molecular weight"
   ]
  },
  {
   "cell_type": "markdown",
   "metadata": {},
   "source": [
    "\\begin{aligned}\n",
    "polymer/MGy = moles/MGy \\times Mr \\\\ \\\\ \n",
    "polymer/s = polymer/MGy \\times D \\times Mass_{CH4}\n",
    "\\end{aligned}\n"
   ]
  },
  {
   "cell_type": "code",
   "execution_count": 18,
   "metadata": {},
   "outputs": [],
   "source": [
    "def rate_of_pol_form(G_value, mr, dose, mass_CH4):\n",
    "    \n",
    "    polymer_form_per_dose = moles_per_MGy(G_value) * mr\n",
    "    \n",
    "    polymer_per_sec = polymer_form_per_dose * dose * mass_CH4\n",
    "    \n",
    "    return(polymer_per_sec)    "
   ]
  },
  {
   "cell_type": "code",
   "execution_count": 19,
   "metadata": {},
   "outputs": [
    {
     "name": "stdout",
     "output_type": "stream",
     "text": [
      "0.1044736 g polymer/s\n"
     ]
    }
   ],
   "source": [
    "print(rate_of_pol_form(0.22e-6, Mr_20, 0.01, 169.6), 'g polymer/s')"
   ]
  }
 ],
 "metadata": {
  "kernelspec": {
   "display_name": "Python 3",
   "language": "python",
   "name": "python3"
  },
  "language_info": {
   "codemirror_mode": {
    "name": "ipython",
    "version": 3
   },
   "file_extension": ".py",
   "mimetype": "text/x-python",
   "name": "python",
   "nbconvert_exporter": "python",
   "pygments_lexer": "ipython3",
   "version": "3.8.3"
  }
 },
 "nbformat": 4,
 "nbformat_minor": 4
}
