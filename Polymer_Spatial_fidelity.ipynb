{
 "cells": [
  {
   "cell_type": "markdown",
   "metadata": {},
   "source": [
    "# Polymer buildup and Hydrogen production in the ISIS Moderator"
   ]
  },
  {
   "cell_type": "markdown",
   "metadata": {},
   "source": [
    "# COPY - add in the spatial stuff to this one \n",
    "\n",
    "- start off with splitting the dose rate so that the top is double the bottom - so 2/3 and 1/3 respectively\n",
    "- add in the iterative stuff once i have the data and the volumes etc confirmed\n",
    "- for the iterative stuff later, i believe everything (for now) other than dose is constant so can loop over a list of the dose values then add in other stuff like dwell time later\n",
    "\n",
    "- may be useful to delete all the basic code with the functions and import them from the other notebook (like i did on steves neutron tools) as itll save a lot of space and be less bulky\n",
    "\n"
   ]
  },
  {
   "cell_type": "markdown",
   "metadata": {},
   "source": [
    "### Radicals per Dose\n",
    "* G value in Mol/J"
   ]
  },
  {
   "cell_type": "markdown",
   "metadata": {},
   "source": [
    "\\begin{aligned}\n",
    "moles/MGy = \\frac {G_{mol/J}}{1000} \\times 1e6 \\\\ \\\\ \n",
    "radicals/MGy = moles \\times 6.023e23\n",
    "\\end{aligned}"
   ]
  },
  {
   "cell_type": "code",
   "execution_count": 2,
   "metadata": {},
   "outputs": [],
   "source": [
    "def moles_per_MGy(G_value):\n",
    "    \n",
    "    moles_per_g = G_value/1000    #since 1Gy = 1J/kg\n",
    "    moles_per_MGy = moles_per_g * 1e6 \n",
    "    \n",
    "    return(moles_per_MGy)\n"
   ]
  },
  {
   "cell_type": "code",
   "execution_count": 3,
   "metadata": {},
   "outputs": [],
   "source": [
    "def radicals_per_dose(moles):\n",
    "    \n",
    "    rads_per_dose = moles * 6.023e23\n",
    "    \n",
    "    return(rads_per_dose)"
   ]
  },
  {
   "cell_type": "code",
   "execution_count": 4,
   "metadata": {},
   "outputs": [
    {
     "name": "stdout",
     "output_type": "stream",
     "text": [
      "0.00066 mol/g\n",
      "3.97518e+20 radicals/g.MGy\n"
     ]
    }
   ],
   "source": [
    "moles = moles_per_MGy(0.66e-6)\n",
    "print (moles, 'mol/g')\n",
    "print (radicals_per_dose(moles), 'radicals/g.MGy')"
   ]
  },
  {
   "cell_type": "markdown",
   "metadata": {},
   "source": [
    "## Splitting the moderator so the top half is double the dose of the bottom\n",
    "- So top half gets 2/300 bottom gets 1/300 MGy/s\n",
    "- Dont need to iterate for this one as theres only two vals - repeat and add them together"
   ]
  },
  {
   "cell_type": "code",
   "execution_count": 5,
   "metadata": {},
   "outputs": [
    {
     "ename": "ImportError",
     "evalue": "cannot import name 'molecular_weight' from 'Polymer_Base_code' (/Users/oliviatindle/Desktop/Placement /Project/Polymer_production/Polymer_Base_code.py)",
     "output_type": "error",
     "traceback": [
      "\u001b[0;31m---------------------------------------------------------------------------\u001b[0m",
      "\u001b[0;31mImportError\u001b[0m                               Traceback (most recent call last)",
      "\u001b[0;32m<ipython-input-5-7af4ad0e4640>\u001b[0m in \u001b[0;36m<module>\u001b[0;34m\u001b[0m\n\u001b[1;32m      5\u001b[0m \u001b[0;32mfrom\u001b[0m \u001b[0mPolymer_Base_code\u001b[0m \u001b[0;32mimport\u001b[0m \u001b[0mg_val_conversion\u001b[0m\u001b[0;34m\u001b[0m\u001b[0;34m\u001b[0m\u001b[0m\n\u001b[1;32m      6\u001b[0m \u001b[0;32mfrom\u001b[0m \u001b[0mPolymer_Base_code\u001b[0m \u001b[0;32mimport\u001b[0m \u001b[0mrate_of_pol_form\u001b[0m\u001b[0;34m\u001b[0m\u001b[0;34m\u001b[0m\u001b[0m\n\u001b[0;32m----> 7\u001b[0;31m \u001b[0;32mfrom\u001b[0m \u001b[0mPolymer_Base_code\u001b[0m \u001b[0;32mimport\u001b[0m \u001b[0mmolecular_weight\u001b[0m\u001b[0;34m\u001b[0m\u001b[0;34m\u001b[0m\u001b[0m\n\u001b[0m",
      "\u001b[0;31mImportError\u001b[0m: cannot import name 'molecular_weight' from 'Polymer_Base_code' (/Users/oliviatindle/Desktop/Placement /Project/Polymer_production/Polymer_Base_code.py)"
     ]
    }
   ],
   "source": [
    "#importing functions to save space and repetition\n",
    "from Polymer_Base_code import vol_of_H_a\n",
    "from Polymer_Base_code import vol_of_H_b\n",
    "from Polymer_Base_code import dose_rate_conversion\n",
    "from Polymer_Base_code import g_val_conversion\n",
    "from Polymer_Base_code import rate_of_pol_form\n",
    "from Polymer_Base_code import molecular_weight\n"
   ]
  },
  {
   "cell_type": "markdown",
   "metadata": {},
   "source": [
    "### Evans Method"
   ]
  },
  {
   "cell_type": "code",
   "execution_count": 6,
   "metadata": {},
   "outputs": [
    {
     "name": "stdout",
     "output_type": "stream",
     "text": [
      "top volume a = 16.95232 cm3/s\n",
      "bottom volume a = 8.47616 cm3/s\n",
      "total volume a = 25.42848 cm3/s\n"
     ]
    }
   ],
   "source": [
    "vol_top_a = vol_of_H_a (moles, 400, 2/300, 0.43)\n",
    "vol_bottom_a = vol_of_H_a (moles, 400, 1/300, 0.43)\n",
    "vol_total_a = vol_top_a + vol_bottom_a\n",
    "\n",
    "\n",
    "print('top volume a =', vol_top_a, 'cm3/s')\n",
    "print('bottom volume a =', vol_bottom_a, 'cm3/s')\n",
    "print('total volume a =', vol_total_a, 'cm3/s')\n",
    "\n",
    "\n",
    "#i know this sounds silly and i assume its fine because it makes sense but they add up to the total volume from\n",
    "#the first function - this is right right??"
   ]
  },
  {
   "cell_type": "markdown",
   "metadata": {},
   "source": [
    "### Uni of Missouri Method"
   ]
  },
  {
   "cell_type": "code",
   "execution_count": 7,
   "metadata": {},
   "outputs": [
    {
     "name": "stdout",
     "output_type": "stream",
     "text": [
      "top volume b = 16.715775999999998 cm3/s\n",
      "bottom volume b = 8.357887999999999 cm3/s\n",
      "total volume b = 25.073663999999997 cm3/s\n"
     ]
    }
   ],
   "source": [
    "top_dose = dose_rate_conversion(2/300, 0.1696)\n",
    "bottom_dose = dose_rate_conversion(1/300, 0.1696)\n",
    "\n",
    "new_g_val = g_val_conversion(0.66e-6)\n",
    "\n",
    "vol_top_b = vol_of_H_b(top_dose, new_g_val)\n",
    "vol_bottom_b = vol_of_H_b(bottom_dose, new_g_val)\n",
    "vol_total_b = vol_top_b + vol_bottom_b\n",
    "\n",
    "print('top volume b =', vol_top_b, 'cm3/s')\n",
    "print('bottom volume b =', vol_bottom_b, 'cm3/s')\n",
    "print('total volume b =', vol_total_b, 'cm3/s')\n"
   ]
  },
  {
   "cell_type": "markdown",
   "metadata": {},
   "source": [
    "### Polymer production rate"
   ]
  },
  {
   "cell_type": "code",
   "execution_count": 8,
   "metadata": {},
   "outputs": [
    {
     "name": "stdout",
     "output_type": "stream",
     "text": [
      "top polymer rate = 0.07462400000000001 g polymer/s\n",
      "bottom polymer rate = 0.037312000000000005 g polymer/s\n",
      "total polymer rate = 0.11193600000000001 g polymer/s\n"
     ]
    }
   ],
   "source": [
    "polymer_top = rate_of_pol_form(0.22e-6, 300, 2/300, 169.6)\n",
    "polymer_bottom = rate_of_pol_form(0.22e-6, 300, 1/300, 169.6)\n",
    "polymer_total = polymer_top + polymer_bottom\n",
    "\n",
    "print('top polymer rate =', polymer_top, 'g polymer/s')\n",
    "print('bottom polymer rate =', polymer_bottom, 'g polymer/s')\n",
    "print('total polymer rate =', polymer_total, 'g polymer/s')\n"
   ]
  },
  {
   "cell_type": "markdown",
   "metadata": {},
   "source": [
    "## Add in the code for the data here\n",
    "- this is where the iteration for the dose comes in\n",
    "- still not too sure with the dwell times as im not sure how time affects the rate of production or how to implement it"
   ]
  },
  {
   "cell_type": "code",
   "execution_count": null,
   "metadata": {},
   "outputs": [],
   "source": []
  }
 ],
 "metadata": {
  "kernelspec": {
   "display_name": "Python 3",
   "language": "python",
   "name": "python3"
  },
  "language_info": {
   "codemirror_mode": {
    "name": "ipython",
    "version": 3
   },
   "file_extension": ".py",
   "mimetype": "text/x-python",
   "name": "python",
   "nbconvert_exporter": "python",
   "pygments_lexer": "ipython3",
   "version": "3.8.3"
  }
 },
 "nbformat": 4,
 "nbformat_minor": 4
}
